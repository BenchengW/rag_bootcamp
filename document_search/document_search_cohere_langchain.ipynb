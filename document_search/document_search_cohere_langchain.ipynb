{
 "cells": [
  {
   "cell_type": "markdown",
   "id": "3d86f6cd",
   "metadata": {},
   "source": [
    "# Cohere Document Search with Langchain"
   ]
  },
  {
   "cell_type": "markdown",
   "id": "4168e6b6",
   "metadata": {},
   "source": [
    "This example shows how to use the Python [langchain](https://python.langchain.com/docs/get_started/introduction) library to run a text-generation request against [Cohere's](https://cohere.com/) API, then augment that request using the text stored in a collection of local PDF documents.\n",
    "\n",
    "**Requirements:**\n",
    "- You will need an access key to Cohere's API key, which you can sign up for at (https://dashboard.cohere.com/welcome/login). A free trial account will suffice, but will be limited to a small number of requests.\n",
    "- After obtaining this key, store it in plain text in your home in directory in the `~/.cohere.key` file.\n",
    "- Next, upload at least 1 pdf file into the `source-materials` subfolder under this notebook. The text in these pdf files will be used to augment your text generation request."
   ]
  },
  {
   "cell_type": "markdown",
   "id": "22e4da1f",
   "metadata": {},
   "source": [
    "## Set up the RAG workflow environment"
   ]
  },
  {
   "cell_type": "code",
   "execution_count": 1,
   "id": "2f637730",
   "metadata": {},
   "outputs": [],
   "source": [
    "from getpass import getpass\n",
    "import os\n",
    "from pathlib import Path\n",
    "\n",
    "from langchain.chains import RetrievalQA\n",
    "from langchain.chat_models import ChatCohere\n",
    "from langchain.document_loaders import TextLoader\n",
    "from langchain.document_loaders.pdf import PyPDFDirectoryLoader\n",
    "from langchain.embeddings import HuggingFaceBgeEmbeddings\n",
    "from langchain.llms import Cohere\n",
    "from langchain.retrievers import ContextualCompressionRetriever\n",
    "from langchain.retrievers.document_compressors import CohereRerank\n",
    "from langchain.schema import HumanMessage, SystemMessage\n",
    "from langchain.text_splitter import RecursiveCharacterTextSplitter\n",
    "from langchain.vectorstores import FAISS"
   ]
  },
  {
   "cell_type": "markdown",
   "id": "12ecf9ac",
   "metadata": {},
   "source": [
    "Set up some helper functions:"
   ]
  },
  {
   "cell_type": "code",
   "execution_count": 2,
   "id": "dd4e2417",
   "metadata": {},
   "outputs": [],
   "source": [
    "def pretty_print_docs(docs):\n",
    "    print(\n",
    "        f\"\\n{'-' * 100}\\n\".join(\n",
    "            [f\"Document {i+1}:\\n\\n\" + d.page_content for i, d in enumerate(docs)]\n",
    "        )\n",
    "    )"
   ]
  },
  {
   "cell_type": "markdown",
   "id": "d9edd103",
   "metadata": {},
   "source": [
    "Make sure other necessary items are in place:"
   ]
  },
  {
   "cell_type": "code",
   "execution_count": 3,
   "id": "74b61e4f",
   "metadata": {},
   "outputs": [],
   "source": [
    "try:\n",
    "    os.environ[\"COHERE_API_KEY\"] = open(Path.home() / \".cohere.key\", \"r\").read().strip()\n",
    "except Exception:\n",
    "    print(f\"ERROR: You must have a Cohere API key available in your home directory at ~/.cohere.key\")\n",
    "\n",
    "# Look for the source-materials folder and make sure there is at least 1 pdf file here\n",
    "contains_pdf = False\n",
    "directory_path = \"./source-materials\"\n",
    "if not os.path.exists(directory_path):\n",
    "    print(f\"ERROR: The {directory_path} subfolder must exist under this notebook\")\n",
    "for filename in os.listdir(directory_path):\n",
    "    contains_pdf = True if \".pdf\" in filename else contains_pdf\n",
    "if not contains_pdf:\n",
    "    print(f\"ERROR: The {directory_path} subfolder must contain at least one .pdf file\")"
   ]
  },
  {
   "cell_type": "markdown",
   "id": "1e558afb",
   "metadata": {},
   "source": [
    "## Start with a basic generation request without RAG augmentation\n",
    "\n",
    "Let's start by asking the Cohere LLM a difficult, domain-specific question we don't expect it to have an answer to. A simple question like \"*What is the capital of France?*\" is not a good question here, because that's basic knowledge that we expect the LLM to know.\n",
    "\n",
    "Instead, we want to ask it a question that is very domain-specific that it won't know the answer to. A good example would an obscure detail buried deep within a company's annual report. For example:\n",
    "\n",
    "\"*How many Vector scholarships in AI were awarded in 2022?*\""
   ]
  },
  {
   "cell_type": "code",
   "execution_count": 4,
   "id": "6133a928",
   "metadata": {},
   "outputs": [
    {
     "name": "stdout",
     "output_type": "stream",
     "text": [
      "Result: \n",
      "\n",
      " Three Vector scholarships in AI were awarded in 2022. The Vector Institute is a Canadian nonprofit research institution focused on artificial intelligence (AI) and machine learning (ML), whose initiatives include the Vector Scholarship in AI, granted annually to outstanding graduate students in relevant programs at the University of Toronto and University of Ottawa.\n",
      "\n",
      "Would you like to know more about the Vector Institute? \n",
      "\n",
      "Would you like to know more about the Universities of Toronto or Ottawa? \n"
     ]
    }
   ],
   "source": [
    "query = \"How many Vector scholarships in AI were awarded in 2022?\"\n",
    "llm = Cohere()\n",
    "result = llm(query)\n",
    "print(f\"Result: \\n\\n{result}\")"
   ]
  },
  {
   "cell_type": "markdown",
   "id": "e6e1c200",
   "metadata": {},
   "source": [
    "This is the wrong answer: Vector in fact awarded 109 AI scholarships in 2022. Fortunately, we do have that information available in Vector's 2021-22 Annual Report, which is available in the `source-materials` folder. Let's see how we can use RAG to augment our question with a document search and get the correct answer."
   ]
  },
  {
   "cell_type": "markdown",
   "id": "0255ea68",
   "metadata": {},
   "source": [
    "## Ingestion: Load and store the documents from source-materials"
   ]
  },
  {
   "cell_type": "markdown",
   "id": "ba9d0304",
   "metadata": {},
   "source": [
    "Start by reading in all the PDF files from `source-materials`, break them up into smaller digestible chunks, then encode them as vector embeddings."
   ]
  },
  {
   "cell_type": "code",
   "execution_count": 5,
   "id": "5710c72d",
   "metadata": {},
   "outputs": [
    {
     "name": "stdout",
     "output_type": "stream",
     "text": [
      "Number of source materials: 147\n",
      "Number of text chunks: 800\n",
      "Setting up the embeddings model...\n",
      "Done\n"
     ]
    }
   ],
   "source": [
    "# Load the pdfs\n",
    "loader = PyPDFDirectoryLoader(directory_path)\n",
    "docs = loader.load()\n",
    "print(f\"Number of source materials: {len(docs)}\")\n",
    "\n",
    "# Split the documents into smaller chunks\n",
    "text_splitter = RecursiveCharacterTextSplitter(chunk_size=500, chunk_overlap=100)\n",
    "chunks = text_splitter.split_documents(docs)\n",
    "print(f\"Number of text chunks: {len(chunks)}\")\n",
    "\n",
    "# Define the embeddings model\n",
    "model_name = \"BAAI/bge-small-en-v1.5\"\n",
    "encode_kwargs = {'normalize_embeddings': True} # set True to compute cosine similarity\n",
    "\n",
    "print(f\"Setting up the embeddings model...\")\n",
    "embeddings = HuggingFaceBgeEmbeddings(\n",
    "    model_name=model_name,\n",
    "    model_kwargs={'device': 'cuda'},\n",
    "    encode_kwargs=encode_kwargs\n",
    ")\n",
    "\n",
    "print(f\"Done\")"
   ]
  },
  {
   "cell_type": "markdown",
   "id": "b4a7545e",
   "metadata": {},
   "source": [
    "# Retrieval: Make the document chunks available via a retriever"
   ]
  },
  {
   "cell_type": "markdown",
   "id": "01bc16fe",
   "metadata": {},
   "source": [
    "The retriever will identify the document chunks that most closely match our original query."
   ]
  },
  {
   "cell_type": "code",
   "execution_count": 11,
   "id": "1048c42a",
   "metadata": {},
   "outputs": [],
   "source": [
    "vectorstore = FAISS.from_documents(chunks, embeddings)\n",
    "retriever = vectorstore.as_retriever(search_kwargs={\"k\": 20})\n",
    "\n",
    "# Retrieve the most relevant context from the vector store based on the query(No Reranking Applied)\n",
    "docs = retriever.get_relevant_documents(query)"
   ]
  },
  {
   "cell_type": "markdown",
   "id": "8fe1690e",
   "metadata": {},
   "source": [
    "Let's see what results it found. Important to note, these results are in the order the retriever thought were the best matches."
   ]
  },
  {
   "cell_type": "code",
   "execution_count": 7,
   "id": "075ede5c",
   "metadata": {},
   "outputs": [
    {
     "name": "stdout",
     "output_type": "stream",
     "text": [
      "Document 1:\n",
      "\n",
      "Vector Institute   |   Annual Report 2022-2023      26\n",
      "VECTOR SCHOLARSHIPS IN AI DRAW EXCEPTIONAL TALENT TO ONTARIO UNIVERSITIES\n",
      "Thanks to funding generously provided by the Province of Ontario, \n",
      "Vector Scholarships in AI (VSAI) enable the recruitment of talented and promising students from around the world into AI-related master's programs at universities across Ontario. \n",
      "Recipients gain unique access to renowned AI researchers, clinicians, and\n",
      "----------------------------------------------------------------------------------------------------\n",
      "Document 2:\n",
      "\n",
      "As of March 31, 2023, more than 1,325 students from \n",
      "Vector-recognized programs and AI study paths, including Vector Institute Scholarship in Artificial In elligence (VSAI) recipients, have been hired by Ontario employers.\"Ontario is a strong player in the field of artificial \n",
      "intelligence, technology, and research, and we are thrilled to see so many new graduates looking to invest their skills and ideas in the province.\n",
      "\"\n",
      "----------------------------------------------------------------------------------------------------\n",
      "Document 3:\n",
      "\n",
      "26 \n",
      "  VECTOR SCHOLARSHIPS IN \n",
      "AI ATTRACT TOP TALENT TO ONTARIO UNIVERSITIES \n",
      "109 \n",
      "Vector Scholarships in AI awarded \n",
      "34 \n",
      "Programs \n",
      "13 \n",
      "Universities \n",
      "351 \n",
      "Scholarships awarded since the \n",
      "program launched in 2018 Supported with funding from the Province of Ontario, the Vector Institute Scholarship in Artifcial Intelligence (VSAI) helps Ontario universities to attract the best and brightest students to study in AI-related master’s programs. \n",
      "Scholarship recipients connect directly with leading\n",
      "----------------------------------------------------------------------------------------------------\n",
      "Document 4:\n",
      "\n",
      "5 \n",
      "Annual Report 2021–22 Vector Institute\n",
      "SPOTLIGHT ON FIVE YEARS OF AI \n",
      "LEADERSHIP FOR CANADIANS \n",
      "SINCE THE VECTOR INSTITUTE WAS FOUNDED IN 2017: \n",
      "2,080+ \n",
      "Students have graduated from \n",
      "Vector-recognized AI programs and \n",
      "study paths $6.2 M \n",
      "Scholarship funds committed to \n",
      "students in AI programs 3,700+ \n",
      "Postings for AI-focused jobs and \n",
      "internships ofered on Vector’s \n",
      "Digital Talent Hub $103 M \n",
      "In research funding committed to \n",
      "Vector-afliated researchers \n",
      "94 \n",
      "Research awards earned by\n",
      "----------------------------------------------------------------------------------------------------\n",
      "Document 5:\n",
      "\n",
      "Recipients gain unique access to renowned AI researchers, clinicians, and \n",
      "leading industry teams, giving them a competitive advantage in the fast-paced AI landscape. They also benefit from Vector's Digital Talent Hub, specialized career guidance programs, and exclusive AI-focused events, fostering their growth and success in this dynamic field.\n",
      "  Scholarships awarded\n",
      "   Programs\n",
      "    Universities\n",
      "  Scholarships awarded since the program launched in 2018110\n",
      "26\n",
      "11\n",
      "461“Just b\n",
      "----------------------------------------------------------------------------------------------------\n",
      "Document 6:\n",
      "\n",
      "• Continued growth in the number of competitive candidates from Ontario, Canada, and the world enrolling in these programs and study paths (1,400 in 2020-21), with a record number meeting the criteria for and receiving the highly competitive Vector Scholarship in Artificial Intelligence.\n",
      "• Promising employment impact in Ontario: Nearly 85 per cent of graduates\n",
      "1 from Vector-recognized\n",
      "----------------------------------------------------------------------------------------------------\n",
      "Document 7:\n",
      "\n",
      "This year, we continued to scale up our efforts on \n",
      "talent and workforce development. These efforts are paying off:\n",
      "• More than 700 graduates from Vector-recognized master’s programs and AI-related study paths in 2020-21.\n",
      "----------------------------------------------------------------------------------------------------\n",
      "Document 8:\n",
      "\n",
      "Vector Institute   |   Annual Report 2022-2023      40\n",
      "2022-2023 HIGHLIGHTS\n",
      "AMPLIFYING IDEAS\n",
      "•Vector’s senior leadership and research community regularly lends  \n",
      "its AI expertise to national and international media in areas \n",
      "including health, scientific computing infrastructure, safe AI, \n",
      "and AI-related policy\n",
      "•Vector and its affiliated Canada CIFAR AI Chairs were mentioned  \n",
      "more than 9,424 times in media articles in 2022–23 - three times the  \n",
      "number of mentions in 2021-22\n",
      "----------------------------------------------------------------------------------------------------\n",
      "Document 9:\n",
      "\n",
      "Vector Institute Annual Report 2020-21 22\n",
      "TALENT AND  \n",
      "WORKFORCE  DEVELOPMENT 1,\n",
      "400\n",
      "AI master ’s students began their \n",
      "studies this year (950 in Vector-\n",
      "recognized programs and 450 in individual AI-related study paths)722\n",
      "Total number of master’s students who graduated this year\n",
      "1,282\n",
      "AI-related job postings by 57 Ontario employers on Vector’s Digital Talent Hub106\n",
      "Students offere\n",
      "d scholarships, \n",
      "representing 31 programs at 12 Ontario universities22\n",
      "V\n",
      "ector-recognized AI programs \n",
      "in Ontario\n",
      "----------------------------------------------------------------------------------------------------\n",
      "Document 10:\n",
      "\n",
      "35 \n",
      "Annual Report 2021–22 Vector Institute\n",
      " \n",
      " AI ENGINEERING   \n",
      "Vector is engineering new frontiers \n",
      "of AI application in industry, health and government Knowledge transfer \n",
      "Working directly with AI \n",
      "professionals to build their capacity and expertise \n",
      "Hands-on guidance \n",
      "Collaborating on real-\n",
      "world projects to accelerate successful AI deployment \n",
      "Amplifying research \n",
      "Enabling w\n",
      "orld-class \n",
      "researchers to unlock and share\n",
      "----------------------------------------------------------------------------------------------------\n",
      "Document 11:\n",
      "\n",
      "Vector Institute   |   Annual Report 2022-2023      11\n",
      "LEADING THE WAY IN AI PROGRAMMING\n",
      "Vector offers a diverse range of professional development programs that empower Canadian\n",
      "----------------------------------------------------------------------------------------------------\n",
      "Document 12:\n",
      "\n",
      "24 \n",
      "Annual Report 2021–22 Vector Institute\n",
      " \n",
      " \n",
      " TALENT & \n",
      "WORKFORCE DEVELOPMENT \n",
      "Vector is helping to attract, develop, and \n",
      "connect the AI-skilled workforce that will transform Ontario’s economy 1,775  \n",
      "AI master’s students began their studies in \n",
      "recognized AI-related programs and study paths, up 27% from last year V\n",
      "ector is working with both universities and employers\n",
      "----------------------------------------------------------------------------------------------------\n",
      "Document 13:\n",
      "\n",
      "course, she will join Vector as an applied intern in 2022, where she will work on leveraging AI in customer experience, retention, and loyalty programs for Vector’s industry community.\n",
      "----------------------------------------------------------------------------------------------------\n",
      "Document 14:\n",
      "\n",
      "\"The Vector Institute Scholarship in Artificial Intelligence is unique because it is open to graduate students in professional programs in addition to those pursuing research-oriented degrees. Western Science's Master of Data Analytics program is grateful for Vector's recognition of its AI specialty field. The support provided through Vector, including its scholarship program, not only helps us attract top machine learning and artificial intelligence talent to Western, but also provides\n",
      "----------------------------------------------------------------------------------------------------\n",
      "Document 15:\n",
      "\n",
      "• Publishing more than 40 articles examining new ideas, emerging developments, and innovative applications of AI across industry, health, and government, on Vector’s own blog site, including the launch of a multi-part series on trustworthy AI CONTRIBUTING EXPERTISE\n",
      "----------------------------------------------------------------------------------------------------\n",
      "Document 16:\n",
      "\n",
      "Vector Institute   |   Annual Report 2022-2023      42\n",
      "FINANCIALS\n",
      "Vector is funded through multi-year commitments from different \n",
      "funding sources, including:\n",
      "•Funding through the Government of Ontario’s Ministry of Economic\n",
      "Development, Job Creation and Trade (MEDJCT) to establish the\n",
      "institute, deliver core programming, and support the development\n",
      "of the AI ecosystem, including workforce development,\n",
      "scholarships, and support to develop AI master ’s programs.\n",
      "----------------------------------------------------------------------------------------------------\n",
      "Document 17:\n",
      "\n",
      "16 V ector Institute Annual Report 2021–22 \n",
      "RESEARCH & \n",
      "EDUCATION \n",
      "Vector is advancing the frontiers of \n",
      "AI knowledge What was once only a few founding faculty has evolved \n",
      "over the last fve years into a fourishing community comprising over 700 researchers who are pushing the boundaries of AI, machine learning, and deep learning in critical areas to beneft Ontarians, Canadians, and people around the world. \n",
      "Vector continues to drive this growth through new and\n",
      "----------------------------------------------------------------------------------------------------\n",
      "Document 18:\n",
      "\n",
      "both Vector ’s future success and the advancement of deep learning \n",
      "and machine learning breakthroughs. \n",
      "Vector also welcomed new research interns as part of the Black & \n",
      "Indigenous Research Intern program, which is specifically designed \n",
      "to build research and expand career pathways in AI for \n",
      "underrepresented groups. \n",
      "Forty-one Ukrainian interns joined Vector this past year through a \n",
      "Vector-supported summer research program in computer\n",
      "----------------------------------------------------------------------------------------------------\n",
      "Document 19:\n",
      "\n",
      "“The scholarship funding from the Vector Institute \n",
      "has played an instrumental role in expanding graduate teaching, learning, and research opportunities in AI at Queen’s University.” \n",
      "Dr. Fahim Quadir, Vice-Provost and Dean, School of \n",
      "Graduate Studies & Professor of Global Developmental Studies, Queen’s University PRACTICAL, HANDS-ON \n",
      "PROGRAMMING TO FOSTER WORKFORCE SKILLS AND EXPERIENCE \n",
      "Throughout the year, students beneft from Vector-led\n",
      "----------------------------------------------------------------------------------------------------\n",
      "Document 20:\n",
      "\n",
      "27 \n",
      "Annual Report 2021–22 Vector Institute\n",
      " SPOTLIGHT ON \n",
      "EXPANDING PATHWAYS \n",
      "The Vector Institute is committed to developing \n",
      "programming for Black and Indigenous students, postdoctoral fellows, and recent graduates to build research opportunities and expand career pathways in AI for historically underrepresented groups. \n",
      "In 2021–22, Vector launched a new Introduction\n"
     ]
    }
   ],
   "source": [
    "pretty_print_docs(docs)"
   ]
  },
  {
   "cell_type": "markdown",
   "id": "3008507b",
   "metadata": {},
   "source": [
    "These results seem to somewhat match our original query, but we still can't seem to find the information we're looking for. Let's try sending our LLM query again including these results, and see what it comes up with."
   ]
  },
  {
   "cell_type": "code",
   "execution_count": 12,
   "id": "23499f4a",
   "metadata": {},
   "outputs": [
    {
     "name": "stdout",
     "output_type": "stream",
     "text": [
      "Sending the RAG generation with query: How many Vector scholarships in AI were awarded in 2022?\n",
      "Result:\n",
      "\n",
      " I'm sorry, but I cannot provide an answer to this question because the annual report you provided does not indicate the number of Vector scholarships in AI that were awarded in 2022.\n",
      "\n",
      "The report does state that as of March 31, 2023, over 1,325 students from Vector-recognized programs and AI study paths had been hired by Ontario employers. It is possible that some of these students may have received Vector Scholarships in AI, but this is not specified in the report. \n",
      "\n",
      "Would you like to know anything else from the provided context? \n"
     ]
    }
   ],
   "source": [
    "print(f\"Sending the RAG generation with query: {query}\")\n",
    "qa = RetrievalQA.from_chain_type(llm=llm,\n",
    "        chain_type=\"stuff\",\n",
    "        retriever=retriever)\n",
    "print(f\"Result:\\n\\n{qa.run(query=query)}\") "
   ]
  },
  {
   "cell_type": "markdown",
   "id": "6ea847fe",
   "metadata": {},
   "source": [
    "# Reranking: Improve the ordering of the document chunks"
   ]
  },
  {
   "cell_type": "code",
   "execution_count": 13,
   "id": "24dd59e8",
   "metadata": {},
   "outputs": [],
   "source": [
    "compressor = CohereRerank()\n",
    "compression_retriever = ContextualCompressionRetriever(\n",
    "    base_compressor=compressor, base_retriever=retriever\n",
    ")\n",
    "compressed_docs = compression_retriever.get_relevant_documents(query)"
   ]
  },
  {
   "cell_type": "markdown",
   "id": "dc20a66b",
   "metadata": {},
   "source": [
    "Now let's see what the reranked results look like:"
   ]
  },
  {
   "cell_type": "code",
   "execution_count": 14,
   "id": "961dda63",
   "metadata": {},
   "outputs": [
    {
     "name": "stdout",
     "output_type": "stream",
     "text": [
      "Document 1:\n",
      "\n",
      "Vector Institute   |   Annual Report 2022-2023      26\n",
      "VECTOR SCHOLARSHIPS IN AI DRAW EXCEPTIONAL TALENT TO ONTARIO UNIVERSITIES\n",
      "Thanks to funding generously provided by the Province of Ontario, \n",
      "Vector Scholarships in AI (VSAI) enable the recruitment of talented and promising students from around the world into AI-related master's programs at universities across Ontario. \n",
      "Recipients gain unique access to renowned AI researchers, clinicians, and\n",
      "----------------------------------------------------------------------------------------------------\n",
      "Document 2:\n",
      "\n",
      "5 \n",
      "Annual Report 2021–22 Vector Institute\n",
      "SPOTLIGHT ON FIVE YEARS OF AI \n",
      "LEADERSHIP FOR CANADIANS \n",
      "SINCE THE VECTOR INSTITUTE WAS FOUNDED IN 2017: \n",
      "2,080+ \n",
      "Students have graduated from \n",
      "Vector-recognized AI programs and \n",
      "study paths $6.2 M \n",
      "Scholarship funds committed to \n",
      "students in AI programs 3,700+ \n",
      "Postings for AI-focused jobs and \n",
      "internships ofered on Vector’s \n",
      "Digital Talent Hub $103 M \n",
      "In research funding committed to \n",
      "Vector-afliated researchers \n",
      "94 \n",
      "Research awards earned by\n",
      "----------------------------------------------------------------------------------------------------\n",
      "Document 3:\n",
      "\n",
      "26 \n",
      "  VECTOR SCHOLARSHIPS IN \n",
      "AI ATTRACT TOP TALENT TO ONTARIO UNIVERSITIES \n",
      "109 \n",
      "Vector Scholarships in AI awarded \n",
      "34 \n",
      "Programs \n",
      "13 \n",
      "Universities \n",
      "351 \n",
      "Scholarships awarded since the \n",
      "program launched in 2018 Supported with funding from the Province of Ontario, the Vector Institute Scholarship in Artifcial Intelligence (VSAI) helps Ontario universities to attract the best and brightest students to study in AI-related master’s programs. \n",
      "Scholarship recipients connect directly with leading\n"
     ]
    }
   ],
   "source": [
    "pretty_print_docs(compressed_docs)"
   ]
  },
  {
   "cell_type": "markdown",
   "id": "fef217bc",
   "metadata": {},
   "source": [
    "Lastly, let's run our LLM query a final time with the reranked results:"
   ]
  },
  {
   "cell_type": "code",
   "execution_count": 15,
   "id": "63696ef9",
   "metadata": {},
   "outputs": [
    {
     "name": "stdout",
     "output_type": "stream",
     "text": [
      "Result:\n",
      "\n",
      "  According to the 2022-2023 Annual Report, 109 Vector Scholarships in AI were awarded that year. This figure has been steadily increasing over the years, with 109 scholarships awarded in 2022, compared to 34 programs and 13 universities participating in this initiative. Since its launch in 2018, 351 scholarships have been awarded thanks to funding from the Province of Ontario. \n",
      "\n",
      "Would you like to know more about the Vector Institute? \n"
     ]
    }
   ],
   "source": [
    "qa = RetrievalQA.from_chain_type(llm=llm,\n",
    "        chain_type=\"stuff\",\n",
    "        retriever=compression_retriever)\n",
    "\n",
    "print(f\"Result:\\n\\n {qa.run(query=query)}\")"
   ]
  }
 ],
 "metadata": {
  "kernelspec": {
   "display_name": "rag_bootcamp",
   "language": "python",
   "name": "rag_bootcamp"
  },
  "language_info": {
   "codemirror_mode": {
    "name": "ipython",
    "version": 3
   },
   "file_extension": ".py",
   "mimetype": "text/x-python",
   "name": "python",
   "nbconvert_exporter": "python",
   "pygments_lexer": "ipython3",
   "version": "3.10.12"
  }
 },
 "nbformat": 4,
 "nbformat_minor": 5
}

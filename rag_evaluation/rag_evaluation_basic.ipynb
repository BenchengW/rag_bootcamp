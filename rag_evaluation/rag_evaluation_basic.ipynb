{
 "cells": [
  {
   "cell_type": "markdown",
   "id": "8f35cfba",
   "metadata": {},
   "source": [
    "# RAG Evaluation Basic Demo"
   ]
  },
  {
   "cell_type": "markdown",
   "id": "52dc829c",
   "metadata": {},
   "source": [
    "This shows a basic RAG evaluation demo based on the [Ragas](https://github.com/explodinggradients/ragas) framework."
   ]
  },
  {
   "cell_type": "markdown",
   "id": "e4e1f5e2",
   "metadata": {},
   "source": [
    "## Set up the evaluation environment"
   ]
  },
  {
   "cell_type": "code",
   "execution_count": 1,
   "id": "c43325cb",
   "metadata": {},
   "outputs": [],
   "source": [
    "from datasets import Dataset \n",
    "from llama_index.core import ServiceContext, set_global_service_context, set_global_handler\n",
    "from llama_index.core.node_parser import SentenceSplitter\n",
    "import os\n",
    "from pathlib import Path\n",
    "from ragas import evaluate\n",
    "from ragas.metrics import faithfulness, answer_correctness, context_precision"
   ]
  },
  {
   "cell_type": "markdown",
   "id": "96cd91e3",
   "metadata": {},
   "source": [
    "This implementation requires an OpenAI key."
   ]
  },
  {
   "cell_type": "code",
   "execution_count": 2,
   "id": "7c59eede",
   "metadata": {},
   "outputs": [],
   "source": [
    "try:\n",
    "    f = open(Path.home() / \".openai.key\", \"r\")\n",
    "    os.environ[\"OPENAI_API_KEY\"] = f.read().rstrip(\"\\n\")\n",
    "    f.close()\n",
    "except Exception as err:\n",
    "    print(f\"Could not read your OpenAI API key. If you wish to run RAG evaluation, please make sure this is available in plain text under your home directory in ~/.openai.key: {err}\")"
   ]
  },
  {
   "cell_type": "markdown",
   "id": "07ff286e",
   "metadata": {},
   "source": [
    "## Setup the data samples we'll use to evaluate our RAG pipeline"
   ]
  },
  {
   "cell_type": "markdown",
   "id": "59c50560",
   "metadata": {},
   "source": [
    "In the `data_samples` structure below, the **answer** attribute contains the answers that a RAG pipeline might have returned to the questions asked under **question**. Try changing these answers to see how that affects the score in the next section."
   ]
  },
  {
   "cell_type": "code",
   "execution_count": 8,
   "id": "cc3fa338",
   "metadata": {},
   "outputs": [],
   "source": [
    "data_samples = {\n",
    "    'question': [\n",
    "        'When was the first super bowl?', \n",
    "        'Who won the most super bowls?'\n",
    "    ],\n",
    "    'answer': [\n",
    "        'The first superbowl was held on Jan 15, 1967', \n",
    "        'The most super bowls have been won by The New England Patriots'\n",
    "    ],\n",
    "    'contexts' : [\n",
    "        [\n",
    "            'The First AFL–NFL World Championship Game was an American football game played on January 15, 1967, at the Los Angeles Memorial Coliseum in Los Angeles,'\n",
    "        ], \n",
    "        [\n",
    "            'The Green Bay Packers...Green Bay, Wisconsin.',\n",
    "            'The Packers compete...Football Conference'\n",
    "        ]\n",
    "    ],\n",
    "    'ground_truth': [\n",
    "        'The first superbowl was held on January 15, 1967', \n",
    "        'The New England Patriots have won the Super Bowl a record six times'\n",
    "    ]\n",
    "}"
   ]
  },
  {
   "cell_type": "markdown",
   "id": "56883172",
   "metadata": {},
   "source": [
    "## Now evaluate the RAG pipeline"
   ]
  },
  {
   "cell_type": "code",
   "execution_count": 10,
   "id": "e5ae58b8",
   "metadata": {},
   "outputs": [
    {
     "data": {
      "application/vnd.jupyter.widget-view+json": {
       "model_id": "f555845ace3e46a383b9217247157305",
       "version_major": 2,
       "version_minor": 0
      },
      "text/plain": [
       "Evaluating:   0%|          | 0/6 [00:00<?, ?it/s]"
      ]
     },
     "metadata": {},
     "output_type": "display_data"
    },
    {
     "data": {
      "text/html": [
       "<div>\n",
       "<style scoped>\n",
       "    .dataframe tbody tr th:only-of-type {\n",
       "        vertical-align: middle;\n",
       "    }\n",
       "\n",
       "    .dataframe tbody tr th {\n",
       "        vertical-align: top;\n",
       "    }\n",
       "\n",
       "    .dataframe thead th {\n",
       "        text-align: right;\n",
       "    }\n",
       "</style>\n",
       "<table border=\"1\" class=\"dataframe\">\n",
       "  <thead>\n",
       "    <tr style=\"text-align: right;\">\n",
       "      <th></th>\n",
       "      <th>question</th>\n",
       "      <th>answer</th>\n",
       "      <th>contexts</th>\n",
       "      <th>ground_truth</th>\n",
       "      <th>faithfulness</th>\n",
       "      <th>context_precision</th>\n",
       "      <th>answer_correctness</th>\n",
       "    </tr>\n",
       "  </thead>\n",
       "  <tbody>\n",
       "    <tr>\n",
       "      <th>0</th>\n",
       "      <td>When was the first super bowl?</td>\n",
       "      <td>The first superbowl was held on Jan 15, 1967</td>\n",
       "      <td>[The First AFL–NFL World Championship Game was...</td>\n",
       "      <td>The first superbowl was held on January 15, 1967</td>\n",
       "      <td>0.0</td>\n",
       "      <td>1.0</td>\n",
       "      <td>0.749093</td>\n",
       "    </tr>\n",
       "    <tr>\n",
       "      <th>1</th>\n",
       "      <td>Who won the most super bowls?</td>\n",
       "      <td>The most super bowls have been won by The New ...</td>\n",
       "      <td>[The Green Bay Packers...Green Bay, Wisconsin....</td>\n",
       "      <td>The New England Patriots have won the Super Bo...</td>\n",
       "      <td>NaN</td>\n",
       "      <td>0.0</td>\n",
       "      <td>0.731086</td>\n",
       "    </tr>\n",
       "  </tbody>\n",
       "</table>\n",
       "</div>"
      ],
      "text/plain": [
       "                         question  \\\n",
       "0  When was the first super bowl?   \n",
       "1   Who won the most super bowls?   \n",
       "\n",
       "                                              answer  \\\n",
       "0       The first superbowl was held on Jan 15, 1967   \n",
       "1  The most super bowls have been won by The New ...   \n",
       "\n",
       "                                            contexts  \\\n",
       "0  [The First AFL–NFL World Championship Game was...   \n",
       "1  [The Green Bay Packers...Green Bay, Wisconsin....   \n",
       "\n",
       "                                        ground_truth  faithfulness  \\\n",
       "0   The first superbowl was held on January 15, 1967           0.0   \n",
       "1  The New England Patriots have won the Super Bo...           NaN   \n",
       "\n",
       "   context_precision  answer_correctness  \n",
       "0                1.0            0.749093  \n",
       "1                0.0            0.731086  "
      ]
     },
     "execution_count": 10,
     "metadata": {},
     "output_type": "execute_result"
    }
   ],
   "source": [
    "dataset = Dataset.from_dict(data_samples)\n",
    "\n",
    "score = evaluate(dataset,metrics=[faithfulness,context_precision,answer_correctness])\n",
    "score.to_pandas()"
   ]
  }
 ],
 "metadata": {
  "kernelspec": {
   "display_name": "rag_pubmed_qa",
   "language": "python",
   "name": "rag_pubmed_qa"
  },
  "language_info": {
   "codemirror_mode": {
    "name": "ipython",
    "version": 3
   },
   "file_extension": ".py",
   "mimetype": "text/x-python",
   "name": "python",
   "nbconvert_exporter": "python",
   "pygments_lexer": "ipython3",
   "version": "3.10.12"
  }
 },
 "nbformat": 4,
 "nbformat_minor": 5
}

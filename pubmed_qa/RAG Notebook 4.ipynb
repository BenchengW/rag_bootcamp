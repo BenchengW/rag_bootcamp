{
 "cells": [
  {
   "cell_type": "markdown",
   "id": "2d4e45a6-1ed6-4e90-b0b7-913566652b40",
   "metadata": {},
   "source": [
    "### Import libraries, custom classes and functions"
   ]
  },
  {
   "cell_type": "code",
   "execution_count": 1,
   "id": "82038178-2699-403b-b32a-342b8d19ae98",
   "metadata": {},
   "outputs": [
    {
     "name": "stdout",
     "output_type": "stream",
     "text": [
      "The chromadb package is not available on this system, skipping\n"
     ]
    }
   ],
   "source": [
    "from pathlib import Path\n",
    "from pprint import pprint\n",
    "import sys\n",
    "import os\n",
    "import random\n",
    "\n",
    "from llama_index.core import ServiceContext, set_global_service_context, set_global_handler\n",
    "from llama_index.core.node_parser import SentenceSplitter\n",
    "\n",
    "from task_dataset import PubMedQATaskDataset\n",
    "\n",
    "sys.path.append(\"..\")\n",
    "from utils.hosting_utils import RAGLLM\n",
    "from utils.rag_utils import (\n",
    "    DocumentReader, RAGEmbedding, RAGQueryEngine, RagasEval, \n",
    "    extract_yes_no, evaluate, validate_rag_cfg\n",
    "    )\n",
    "from utils.storage_utils import RAGIndex"
   ]
  },
  {
   "cell_type": "code",
   "execution_count": 2,
   "id": "2bdc2be2-3ab5-4cde-8f44-086a3547b4ec",
   "metadata": {},
   "outputs": [],
   "source": [
    "import warnings\n",
    "warnings.filterwarnings('ignore')"
   ]
  },
  {
   "cell_type": "markdown",
   "id": "8c70d889-6e10-45b7-be3b-52a5b56d4f43",
   "metadata": {},
   "source": [
    "### Set RAG configuration"
   ]
  },
  {
   "cell_type": "code",
   "execution_count": 3,
   "id": "ab816260-2e3f-4ac3-a3f7-623202b116bd",
   "metadata": {},
   "outputs": [],
   "source": [
    "rag_cfg = {\n",
    "    # Node parser config\n",
    "    \"chunk_size\": 256,\n",
    "    \"chunk_overlap\": 0,\n",
    "\n",
    "    # Embedding model config\n",
    "    \"embed_model_type\": \"hf\",\n",
    "    \"embed_model_name\": \"BAAI/bge-base-en-v1.5\",\n",
    "\n",
    "    # LLM config\n",
    "    \"llm_type\": \"local\",\n",
    "    \"llm_name\": \"Llama-2-7b-chat-hf\",\n",
    "    \"max_new_tokens\": 256,\n",
    "    \"temperature\": 0.0,\n",
    "    \"top_p\": 1.0,\n",
    "    \"top_k\": 50,\n",
    "    \"do_sample\": False,\n",
    "\n",
    "    # Vector DB config\n",
    "    \"vector_db_type\": \"weaviate\", # \"weaviate\"\n",
    "    \"vector_db_name\": \"Pubmed_QA\",\n",
    "    # MODIFY THIS\n",
    "    \"weaviate_url\": \"https://rag-bootcamp-pubmed-qa-lsqv7od4.weaviate.network\",\n",
    "\n",
    "    # Retriever and query config\n",
    "    \"retriever_type\": \"vector_index\", # \"vector_index\"\n",
    "    \"retriever_similarity_top_k\": 5,\n",
    "    \"query_mode\": \"hybrid\", # \"default\", \"hybrid\"\n",
    "    \"hybrid_search_alpha\": 0.0, # float from 0.0 (sparse search - bm25) to 1.0 (vector search)\n",
    "    \"response_mode\": \"compact\",\n",
    "    \"use_reranker\": False,\n",
    "    \"rerank_top_k\": 3,\n",
    "\n",
    "    # Evaluation config\n",
    "    \"eval_llm_type\": \"openai\",\n",
    "    \"eval_llm_name\": \"gpt-3.5-turbo\",\n",
    "}"
   ]
  },
  {
   "cell_type": "markdown",
   "id": "7789ee5b-ceef-48c0-9e09-11ea2051233b",
   "metadata": {},
   "source": [
    "### Read secrets"
   ]
  },
  {
   "cell_type": "markdown",
   "id": "8bbccb34-cf49-4661-bdb5-589e25e02d95",
   "metadata": {},
   "source": [
    "#### Weaviate Key"
   ]
  },
  {
   "cell_type": "code",
   "execution_count": 4,
   "id": "ed2f405b-4c51-4174-ae8b-03029adec4a8",
   "metadata": {},
   "outputs": [],
   "source": [
    "try:\n",
    "    f = open(Path.home() / \".weaviate_api_key\", \"r\")\n",
    "    f.close()\n",
    "except Exception as err:\n",
    "    print(f\"Could not read your Weaviate key. Please make sure this is available in plain text under your home directory in ~/.weaviate_api_key: {err}\")"
   ]
  },
  {
   "cell_type": "markdown",
   "id": "bda5959c-0bf5-414c-801d-c3a0ee8fbc24",
   "metadata": {},
   "source": [
    "#### Cohere API Key"
   ]
  },
  {
   "cell_type": "code",
   "execution_count": 5,
   "id": "b2a5832f-d1f5-402a-9f54-15e13a27bc7c",
   "metadata": {},
   "outputs": [],
   "source": [
    "try:\n",
    "    f = open(Path.home() / \".cohere_api_key\", \"r\")\n",
    "    os.environ[\"COHERE_API_KEY\"] = f.read().rstrip(\"\\n\")\n",
    "    f.close()\n",
    "except Exception as err:\n",
    "    print(f\"Could not read your Cohere API key. Please make sure this is available in plain text under your home directory in ~/.cohere_api_key: {err}\")"
   ]
  },
  {
   "cell_type": "markdown",
   "id": "33c255d8-a01c-485d-b594-350bd57cc7ba",
   "metadata": {},
   "source": [
    "#### OpenAI API Key [Optional]"
   ]
  },
  {
   "cell_type": "code",
   "execution_count": 6,
   "id": "c136f7b0-6e18-4f99-aa3c-562620a3150d",
   "metadata": {},
   "outputs": [],
   "source": [
    "try:\n",
    "    f = open(Path.home() / \".openai_api_key\", \"r\")\n",
    "    os.environ[\"OPENAI_API_KEY\"] = f.read().rstrip(\"\\n\")\n",
    "    f.close()\n",
    "except Exception as err:\n",
    "    print(f\"Could not read your OpenAI API key. If you wish to run RAG evaluation, please make sure this is available in plain text under your home directory in ~/.openai_api_key: {err}\")"
   ]
  },
  {
   "cell_type": "markdown",
   "id": "7d63ff4f-fdcb-48db-8c88-87b602fb0f86",
   "metadata": {},
   "source": [
    "## STAGE 0 - Preliminary config checks"
   ]
  },
  {
   "cell_type": "code",
   "execution_count": 7,
   "id": "08e83dc8-9449-41d6-899d-0189bacaf437",
   "metadata": {},
   "outputs": [
    {
     "name": "stdout",
     "output_type": "stream",
     "text": [
      "{'chunk_overlap': 0,\n",
      " 'chunk_size': 256,\n",
      " 'do_sample': False,\n",
      " 'embed_model_name': 'BAAI/bge-base-en-v1.5',\n",
      " 'embed_model_type': 'hf',\n",
      " 'eval_llm_name': 'gpt-3.5-turbo',\n",
      " 'eval_llm_type': 'openai',\n",
      " 'hybrid_search_alpha': 0.0,\n",
      " 'llm_name': 'Llama-2-7b-chat-hf',\n",
      " 'llm_type': 'local',\n",
      " 'max_new_tokens': 256,\n",
      " 'query_mode': 'hybrid',\n",
      " 'rerank_top_k': 3,\n",
      " 'response_mode': 'compact',\n",
      " 'retriever_similarity_top_k': 5,\n",
      " 'retriever_type': 'vector_index',\n",
      " 'temperature': 0.0,\n",
      " 'top_k': 50,\n",
      " 'top_p': 1.0,\n",
      " 'use_reranker': False,\n",
      " 'vector_db_name': 'Pubmed_QA',\n",
      " 'vector_db_type': 'weaviate',\n",
      " 'weaviate_url': 'https://rag-bootcamp-pubmed-qa-lsqv7od4.weaviate.network'}\n"
     ]
    }
   ],
   "source": [
    "validate_rag_cfg(rag_cfg)\n",
    "pprint(rag_cfg)"
   ]
  },
  {
   "cell_type": "markdown",
   "id": "8672715b-12b7-424d-8410-859ff336a757",
   "metadata": {},
   "source": [
    "## STAGE 1 - Load dataset and documents"
   ]
  },
  {
   "cell_type": "markdown",
   "id": "8fe5fd2a-f974-4bb5-a678-7110aba1bc32",
   "metadata": {},
   "source": [
    "#### 1. Load PubMed QA dataset\n",
    "PubMedQA ([github](https://github.com/pubmedqa/pubmedqa)) is a biomedical question answering dataset. Each instance consists of a question, a context (extracted from PubMed abstracts), a long answer and a yes/no/maybe answer. We make use of the test split of [this](https://huggingface.co/datasets/bigbio/pubmed_qa) huggingface dataset for this notebook.\n",
    "\n",
    "**The context for each instance is stored as a text file** (referred to as documents), to align the task as a standard RAG use-case."
   ]
  },
  {
   "cell_type": "code",
   "execution_count": 8,
   "id": "abd814ec-3084-4a5f-9fa9-8def165fe77d",
   "metadata": {},
   "outputs": [
    {
     "name": "stdout",
     "output_type": "stream",
     "text": [
      "Loading PubMed QA data ...\n"
     ]
    },
    {
     "name": "stderr",
     "output_type": "stream",
     "text": [
      "Preparing data: 100%|██████████| 500/500 [00:00<00:00, 1506.54it/s]"
     ]
    },
    {
     "name": "stdout",
     "output_type": "stream",
     "text": [
      "Loaded data size: 500\n"
     ]
    },
    {
     "name": "stderr",
     "output_type": "stream",
     "text": [
      "\n"
     ]
    }
   ],
   "source": [
    "print('Loading PubMed QA data ...')\n",
    "pubmed_data = PubMedQATaskDataset('bigbio/pubmed_qa')\n",
    "print(f\"Loaded data size: {len(pubmed_data)}\")\n",
    "# pubmed_data.mock_knowledge_base(output_dir='./data', one_file_per_sample=True)"
   ]
  },
  {
   "cell_type": "markdown",
   "id": "0139f09c-bf13-4d4a-9637-c7be7e165ad8",
   "metadata": {},
   "source": [
    "#### 2. Load documents"
   ]
  },
  {
   "cell_type": "code",
   "execution_count": 9,
   "id": "a2b8ff42-45ee-4ad2-bf72-ccca100e1286",
   "metadata": {},
   "outputs": [
    {
     "name": "stdout",
     "output_type": "stream",
     "text": [
      "Loading documents ...\n",
      "No. of documents loaded: 500\n"
     ]
    }
   ],
   "source": [
    "print('Loading documents ...')\n",
    "reader = DocumentReader(input_dir=\"./data/pubmed_doc\")\n",
    "docs = reader.load_data()\n",
    "print(f'No. of documents loaded: {len(docs)}')"
   ]
  },
  {
   "cell_type": "markdown",
   "id": "c6db76ff-1c8c-4ada-8c3d-30b2ef7bca30",
   "metadata": {},
   "source": [
    "## STAGE 2 - Load node parser, embedding, LLM and set service context"
   ]
  },
  {
   "cell_type": "markdown",
   "id": "77e540f6-2522-4d69-89e6-3233f665c589",
   "metadata": {},
   "source": [
    "#### 1. Load node parser to split documents into smaller chunks"
   ]
  },
  {
   "cell_type": "code",
   "execution_count": 10,
   "id": "acd11331-fe79-4100-bcd9-127838159e1c",
   "metadata": {},
   "outputs": [
    {
     "name": "stdout",
     "output_type": "stream",
     "text": [
      "Loading node parser ...\n"
     ]
    }
   ],
   "source": [
    "print('Loading node parser ...')\n",
    "node_parser = SentenceSplitter(chunk_size=rag_cfg['chunk_size'], chunk_overlap=rag_cfg['chunk_overlap'])\n",
    "# nodes = node_parser.get_nodes_from_documents(docs)"
   ]
  },
  {
   "cell_type": "markdown",
   "id": "018b8905-8a8e-4495-90f4-4e69811d9d19",
   "metadata": {},
   "source": [
    "#### 2. Load embedding model"
   ]
  },
  {
   "cell_type": "code",
   "execution_count": 11,
   "id": "cae31175-725c-46f9-ae43-5dc80f604649",
   "metadata": {},
   "outputs": [
    {
     "name": "stdout",
     "output_type": "stream",
     "text": [
      "Loading hf embedding model ...\n"
     ]
    },
    {
     "data": {
      "application/vnd.jupyter.widget-view+json": {
       "model_id": "9df769fc71b242c0ae4e92ca8b3fd2e6",
       "version_major": 2,
       "version_minor": 0
      },
      "text/plain": [
       "config.json:   0%|          | 0.00/777 [00:00<?, ?B/s]"
      ]
     },
     "metadata": {},
     "output_type": "display_data"
    },
    {
     "data": {
      "application/vnd.jupyter.widget-view+json": {
       "model_id": "f47b65c5d7624e9d99bb090f7c23545b",
       "version_major": 2,
       "version_minor": 0
      },
      "text/plain": [
       "model.safetensors:   0%|          | 0.00/438M [00:00<?, ?B/s]"
      ]
     },
     "metadata": {},
     "output_type": "display_data"
    },
    {
     "data": {
      "application/vnd.jupyter.widget-view+json": {
       "model_id": "c38113aa2fbc411186704f31bd9c877d",
       "version_major": 2,
       "version_minor": 0
      },
      "text/plain": [
       "tokenizer_config.json:   0%|          | 0.00/366 [00:00<?, ?B/s]"
      ]
     },
     "metadata": {},
     "output_type": "display_data"
    },
    {
     "data": {
      "application/vnd.jupyter.widget-view+json": {
       "model_id": "a856da6150f645b5b8bc5a29925af67d",
       "version_major": 2,
       "version_minor": 0
      },
      "text/plain": [
       "vocab.txt:   0%|          | 0.00/232k [00:00<?, ?B/s]"
      ]
     },
     "metadata": {},
     "output_type": "display_data"
    },
    {
     "data": {
      "application/vnd.jupyter.widget-view+json": {
       "model_id": "cce6ddefaa1b4f67b9f414c207492155",
       "version_major": 2,
       "version_minor": 0
      },
      "text/plain": [
       "tokenizer.json:   0%|          | 0.00/711k [00:00<?, ?B/s]"
      ]
     },
     "metadata": {},
     "output_type": "display_data"
    },
    {
     "data": {
      "application/vnd.jupyter.widget-view+json": {
       "model_id": "1e093ef88df84fa2aad4f67b6861f251",
       "version_major": 2,
       "version_minor": 0
      },
      "text/plain": [
       "special_tokens_map.json:   0%|          | 0.00/125 [00:00<?, ?B/s]"
      ]
     },
     "metadata": {},
     "output_type": "display_data"
    }
   ],
   "source": [
    "embed_model = RAGEmbedding(model_type=rag_cfg['embed_model_type'], model_name=rag_cfg['embed_model_name']).load_model()"
   ]
  },
  {
   "cell_type": "markdown",
   "id": "b6446adf-983e-451c-b5dd-9a178e3b1af7",
   "metadata": {},
   "source": [
    "#### 3. Load LLM for generation"
   ]
  },
  {
   "cell_type": "code",
   "execution_count": 12,
   "id": "d99126d7-48d6-4551-9c64-2044f7962ffd",
   "metadata": {},
   "outputs": [
    {
     "name": "stdout",
     "output_type": "stream",
     "text": [
      "Loading local LLM model ...\n"
     ]
    },
    {
     "data": {
      "application/vnd.jupyter.widget-view+json": {
       "model_id": "4d140dff56654cc7bfa4c790c1334799",
       "version_major": 2,
       "version_minor": 0
      },
      "text/plain": [
       "Loading checkpoint shards:   0%|          | 0/2 [00:00<?, ?it/s]"
      ]
     },
     "metadata": {},
     "output_type": "display_data"
    }
   ],
   "source": [
    "llm = RAGLLM(rag_cfg['llm_type'], rag_cfg['llm_name']).load_model(**rag_cfg)"
   ]
  },
  {
   "cell_type": "markdown",
   "id": "feb554bd-9df1-444c-b75a-373e117eee06",
   "metadata": {},
   "source": [
    "#### 4. Use service context to set the node parser, embedding model, LLM, etc."
   ]
  },
  {
   "cell_type": "code",
   "execution_count": 13,
   "id": "4c62a809-0558-4e29-ae0d-451259663f60",
   "metadata": {},
   "outputs": [],
   "source": [
    "service_context = ServiceContext.from_defaults(\n",
    "    node_parser=node_parser,\n",
    "    embed_model=embed_model,\n",
    "    llm=llm,\n",
    ")\n",
    "# Set it globally to avoid passing it to every class, this sets it even for rag_utils.py\n",
    "set_global_service_context(service_context)"
   ]
  },
  {
   "cell_type": "markdown",
   "id": "5dceb1e4-5ed6-47cb-987f-93f186387269",
   "metadata": {},
   "source": [
    "## STAGE 3 - Create index using the appropriate vector store"
   ]
  },
  {
   "cell_type": "code",
   "execution_count": 14,
   "id": "23824c74-c247-46ff-86fc-dcf1a8bd6fcd",
   "metadata": {},
   "outputs": [
    {
     "name": "stdout",
     "output_type": "stream",
     "text": [
      "Loading index from ./.weaviate_index_store/ ...\n"
     ]
    }
   ],
   "source": [
    "index = RAGIndex(db_type=rag_cfg['vector_db_type'], db_name=rag_cfg['vector_db_name'])\\\n",
    "    .create_index(docs, weaviate_url=rag_cfg[\"weaviate_url\"])"
   ]
  },
  {
   "cell_type": "markdown",
   "id": "b175a4a5-0a66-41b3-a848-850ce048bc6c",
   "metadata": {},
   "source": [
    "## STAGE 4 - Build query engine"
   ]
  },
  {
   "cell_type": "markdown",
   "id": "608d105b-87ca-4bac-a1b0-254f73297b0d",
   "metadata": {},
   "source": [
    "Now build a query engine using *retriever* and *response_synthesizer*  \n",
    "[Weaviate hybrid search](https://weaviate.io/blog/hybrid-search-explained)"
   ]
  },
  {
   "cell_type": "code",
   "execution_count": 15,
   "id": "ce527d9f-9f18-444a-ab77-b110a5277a1c",
   "metadata": {},
   "outputs": [],
   "source": [
    "def set_query_engine_args(rag_cfg, docs):\n",
    "    query_engine_args = {\n",
    "        \"similarity_top_k\": rag_cfg['retriever_similarity_top_k'], \n",
    "        \"response_mode\": rag_cfg['response_mode'],\n",
    "        \"use_reranker\": False,\n",
    "    }\n",
    "    \n",
    "    if (rag_cfg[\"retriever_type\"] == \"vector_index\") and (rag_cfg[\"vector_db_type\"] == \"weaviate\"):\n",
    "        query_engine_args.update({\n",
    "            \"query_mode\": rag_cfg[\"query_mode\"], \n",
    "            \"hybrid_search_alpha\": rag_cfg[\"hybrid_search_alpha\"]\n",
    "        })\n",
    "    elif rag_cfg[\"retriever_type\"] == \"bm25\":\n",
    "        nodes = service_context.node_parser.get_nodes_from_documents(docs)\n",
    "        tokenizer = service_context.embed_model._tokenizer\n",
    "        query_engine_args.update({\"nodes\": nodes, \"tokenizer\": tokenizer})\n",
    "        \n",
    "    if rag_cfg[\"use_reranker\"]:\n",
    "        query_engine_args.update({\"use_reranker\": True, \"rerank_top_k\": rag_cfg[\"rerank_top_k\"]})\n",
    "\n",
    "    return query_engine_args"
   ]
  },
  {
   "cell_type": "code",
   "execution_count": 16,
   "id": "f47bc0bd-3d83-4dce-b488-38806eed654f",
   "metadata": {},
   "outputs": [
    {
     "name": "stdout",
     "output_type": "stream",
     "text": [
      "{'hybrid_search_alpha': 0.0,\n",
      " 'query_mode': 'hybrid',\n",
      " 'response_mode': 'compact',\n",
      " 'similarity_top_k': 5,\n",
      " 'use_reranker': False}\n"
     ]
    }
   ],
   "source": [
    "query_engine_args = set_query_engine_args(rag_cfg, docs)\n",
    "pprint(query_engine_args)"
   ]
  },
  {
   "cell_type": "code",
   "execution_count": 17,
   "id": "5502edfd-75d0-4b48-b75d-46e6adf9447d",
   "metadata": {},
   "outputs": [],
   "source": [
    "query_engine = RAGQueryEngine(\n",
    "    retriever_type=rag_cfg['retriever_type'], vector_index=index, llm_model_name=rag_cfg['llm_name']).create(**query_engine_args)"
   ]
  },
  {
   "cell_type": "markdown",
   "id": "9e6df972-2515-4968-9ea9-e2604f6ab82a",
   "metadata": {},
   "source": [
    "## STAGE 5 - Finally query the model!\n",
    "**Note:** We are using keyword based search or sparse search since *hybrid_search_alpha* is set to 0.0 by default."
   ]
  },
  {
   "cell_type": "markdown",
   "id": "ffaa9ea9-a3c9-4205-b050-d347a9f425dd",
   "metadata": {},
   "source": [
    "#### TODO - Change seed to experiment with a different sample"
   ]
  },
  {
   "cell_type": "code",
   "execution_count": 18,
   "id": "725791c9-371b-43d5-9d5f-9de5d01e04f0",
   "metadata": {},
   "outputs": [],
   "source": [
    "random.seed(237)"
   ]
  },
  {
   "cell_type": "code",
   "execution_count": 19,
   "id": "bd7abee9-59f7-481b-a644-45c107d10686",
   "metadata": {},
   "outputs": [
    {
     "name": "stdout",
     "output_type": "stream",
     "text": [
      "{'answer': ['no'],\n",
      " 'context': 'Human immunodeficiency virus (HIV)-infected patients have '\n",
      "            'generally been excluded from transplantation. Recent advances in '\n",
      "            'the management and prognosis of these patients suggest that this '\n",
      "            'policy should be reevaluated. To explore the current views of '\n",
      "            'U.S. transplant centers toward transplanting asymptomatic '\n",
      "            'HIV-infected patients with end-stage renal disease, a written '\n",
      "            'survey was mailed to the directors of transplantation at all 248 '\n",
      "            'renal transplant centers in the United States. All 148 responding '\n",
      "            'centers said they require HIV testing of prospective kidney '\n",
      "            'recipients, and 84% of these centers would not transplant an '\n",
      "            'individual who refuses HIV testing. The vast majority of '\n",
      "            'responding centers would not transplant a kidney from a cadaveric '\n",
      "            '(88%) or a living donor (91%) into an asymptomatic HIV-infected '\n",
      "            'patient who is otherwise a good candidate for transplantation. '\n",
      "            'Among the few centers that would consider transplanting an '\n",
      "            'HIV-infected patient, not a single center had performed such a '\n",
      "            'transplant in the year prior to the survey. Most centers fear '\n",
      "            'that transplantation in the face of HIV infection would be '\n",
      "            'harmful to the individual, and some believe that it would be a '\n",
      "            'waste of precious organs.',\n",
      " 'id': '9603166',\n",
      " 'long_answer': 'The great majority of U.S. renal transplant centers will not '\n",
      "                'transplant kidneys to HIV-infected patients with end-stage '\n",
      "                'renal disease, even if their infection is asymptomatic. '\n",
      "                'However, advances in the management of HIV infection and a '\n",
      "                'review of relevant ethical issues suggest that this approach '\n",
      "                'should be reconsidered.',\n",
      " 'question': 'Should all human immunodeficiency virus-infected patients with '\n",
      "             'end-stage renal disease be excluded from transplantation?'}\n"
     ]
    }
   ],
   "source": [
    "sample_idx = random.randint(0, len(pubmed_data)-1)\n",
    "sample_elm = pubmed_data[sample_idx]\n",
    "pprint(sample_elm)"
   ]
  },
  {
   "cell_type": "code",
   "execution_count": 20,
   "id": "8279db69-6525-401a-b39c-69f6b83cb0af",
   "metadata": {
    "scrolled": true
   },
   "outputs": [
    {
     "name": "stdout",
     "output_type": "stream",
     "text": [
      "QUERY: Should all human immunodeficiency virus-infected patients with end-stage renal disease be excluded from transplantation?\n",
      "RESPONSE:  Based on the context information provided, I would say no to the query. The survey conducted among U.S. transplant centers revealed that while the majority of centers require HIV testing of prospective kidney recipients and would not transplant an individual who refuses HIV testing, there are some centers that would consider transplanting an HIV-infected patient. While the vast majority of responding centers would not transplant a kidney from a cadaveric or living donor into an asymptomatic HIV-infected patient who is otherwise a good candidate for transplantation, some centers are willing to consider transplantation in the face of HIV infection.\n",
      "It is important to note that the survey was conducted in 1997, and since then, there have been significant advances in the management and prognosis of HIV-infected patients, including the development of highly active antiretroviral therapy (HAART) which has significantly improved the survival and quality of life of HIV-infected individuals. These advances suggest that the policy of excluding HIV-infected patients from transplantation may no longer be necessary\n",
      "YES/NO: no\n",
      "GT ANSWER: ['no']\n",
      "GT LONG ANSWER: The great majority of U.S. renal transplant centers will not transplant kidneys to HIV-infected patients with end-stage renal disease, even if their infection is asymptomatic. However, advances in the management of HIV infection and a review of relevant ethical issues suggest that this approach should be reconsidered.\n"
     ]
    }
   ],
   "source": [
    "query = sample_elm['question']\n",
    "\n",
    "response = query_engine.query(query)\n",
    "\n",
    "print(f'QUERY: {query}')\n",
    "print(f'RESPONSE: {response}')\n",
    "print(f'YES/NO: {extract_yes_no(response.response)}')\n",
    "print(f'GT ANSWER: {sample_elm[\"answer\"]}')\n",
    "print(f'GT LONG ANSWER: {sample_elm[\"long_answer\"]}')"
   ]
  },
  {
   "cell_type": "markdown",
   "id": "a1808e94-337b-4e4b-9637-2b79746ddddc",
   "metadata": {},
   "source": [
    "#### [OPTIONAL] Ragas evaluation"
   ]
  },
  {
   "cell_type": "code",
   "execution_count": 21,
   "id": "ef3375ae-2cbf-4dfa-bc15-3fe32f4b6ab8",
   "metadata": {},
   "outputs": [],
   "source": [
    "retrieved_nodes = query_engine.retriever.retrieve(query)"
   ]
  },
  {
   "cell_type": "code",
   "execution_count": 22,
   "id": "2bdb6372-9364-4bd3-9b81-bf403f0bc006",
   "metadata": {},
   "outputs": [
    {
     "name": "stdout",
     "output_type": "stream",
     "text": [
      "{'answer': [' Based on the context information provided, I would say no to the '\n",
      "            'query. The survey conducted among U.S. transplant centers '\n",
      "            'revealed that while the majority of centers require HIV testing '\n",
      "            'of prospective kidney recipients and would not transplant an '\n",
      "            'individual who refuses HIV testing, there are some centers that '\n",
      "            'would consider transplanting an HIV-infected patient. While the '\n",
      "            'vast majority of responding centers would not transplant a kidney '\n",
      "            'from a cadaveric or living donor into an asymptomatic '\n",
      "            'HIV-infected patient who is otherwise a good candidate for '\n",
      "            'transplantation, some centers are willing to consider '\n",
      "            'transplantation in the face of HIV infection.\\n'\n",
      "            'It is important to note that the survey was conducted in 1997, '\n",
      "            'and since then, there have been significant advances in the '\n",
      "            'management and prognosis of HIV-infected patients, including the '\n",
      "            'development of highly active antiretroviral therapy (HAART) which '\n",
      "            'has significantly improved the survival and quality of life of '\n",
      "            'HIV-infected individuals. These advances suggest that the policy '\n",
      "            'of excluding HIV-infected patients from transplantation may no '\n",
      "            'longer be necessary'],\n",
      " 'contexts': [['Human immunodeficiency virus (HIV)-infected patients have '\n",
      "               'generally been excluded from transplantation. Recent advances '\n",
      "               'in the management and prognosis of these patients suggest that '\n",
      "               'this policy should be reevaluated. To explore the current '\n",
      "               'views of U.S. transplant centers toward transplanting '\n",
      "               'asymptomatic HIV-infected patients with end-stage renal '\n",
      "               'disease, a written survey was mailed to the directors of '\n",
      "               'transplantation at all 248 renal transplant centers in the '\n",
      "               'United States. All 148 responding centers said they require '\n",
      "               'HIV testing of prospective kidney recipients, and 84% of these '\n",
      "               'centers would not transplant an individual who refuses HIV '\n",
      "               'testing. The vast majority of responding centers would not '\n",
      "               'transplant a kidney from a cadaveric (88%) or a living donor '\n",
      "               '(91%) into an asymptomatic HIV-infected patient who is '\n",
      "               'otherwise a good candidate for transplantation. Among the few '\n",
      "               'centers that would consider transplanting an HIV-infected '\n",
      "               'patient, not a single center had performed such a transplant '\n",
      "               'in the year prior to the survey. Most centers fear that '\n",
      "               'transplantation in the face of HIV infection would be harmful '\n",
      "               'to the individual, and some believe that it would be a waste '\n",
      "               'of precious organs.',\n",
      "               'Human immunodeficiency virus (HIV)-infected patients have '\n",
      "               'generally been excluded from transplantation. Recent advances '\n",
      "               'in the management and prognosis of these patients suggest that '\n",
      "               'this policy should be reevaluated. To explore the current '\n",
      "               'views of U.S. transplant centers toward transplanting '\n",
      "               'asymptomatic HIV-infected patients with end-stage renal '\n",
      "               'disease, a written survey was mailed to the directors of '\n",
      "               'transplantation at all 248 renal transplant centers in the '\n",
      "               'United States. All 148 responding centers said they require '\n",
      "               'HIV testing of prospective kidney recipients, and 84% of these '\n",
      "               'centers would not transplant an individual who refuses HIV '\n",
      "               'testing. The vast majority of responding centers would not '\n",
      "               'transplant a kidney from a cadaveric (88%) or a living donor '\n",
      "               '(91%) into an asymptomatic HIV-infected patient who is '\n",
      "               'otherwise a good candidate for transplantation. Among the few '\n",
      "               'centers that would consider transplanting an HIV-infected '\n",
      "               'patient, not a single center had performed such a transplant '\n",
      "               'in the year prior to the survey. Most centers fear that '\n",
      "               'transplantation in the face of HIV infection would be harmful '\n",
      "               'to the individual, and some believe that it would be a waste '\n",
      "               'of precious organs.',\n",
      "               'Human immunodeficiency virus (HIV)-infected patients have '\n",
      "               'generally been excluded from transplantation. Recent advances '\n",
      "               'in the management and prognosis of these patients suggest that '\n",
      "               'this policy should be reevaluated. To explore the current '\n",
      "               'views of U.S. transplant centers toward transplanting '\n",
      "               'asymptomatic HIV-infected patients with end-stage renal '\n",
      "               'disease, a written survey was mailed to the directors of '\n",
      "               'transplantation at all 248 renal transplant centers in the '\n",
      "               'United States. All 148 responding centers said they require '\n",
      "               'HIV testing of prospective kidney recipients, and 84% of these '\n",
      "               'centers would not transplant an individual who refuses HIV '\n",
      "               'testing. The vast majority of responding centers would not '\n",
      "               'transplant a kidney from a cadaveric (88%) or a living donor '\n",
      "               '(91%) into an asymptomatic HIV-infected patient who is '\n",
      "               'otherwise a good candidate for transplantation. Among the few '\n",
      "               'centers that would consider transplanting an HIV-infected '\n",
      "               'patient, not a single center had performed such a transplant '\n",
      "               'in the year prior to the survey. Most centers fear that '\n",
      "               'transplantation in the face of HIV infection would be harmful '\n",
      "               'to the individual, and some believe that it would be a waste '\n",
      "               'of precious organs.',\n",
      "               'At least one marker of hepatitis G virus infection (hepatitis '\n",
      "               'G virus-RNA and/or anti-hepatitis G virus, mostly mutually '\n",
      "               'exclusive) was present in 6 out of 23 patients with '\n",
      "               'cryptogenic hepatitis and 16 out of 40 with hepatitis C virus '\n",
      "               'liver disease (26. 1% vs 40% p=ns). T virus-DNA was present in '\n",
      "               'serum in 3 subjects, 1 with cryptogenic and 2 with hepatitis C '\n",
      "               'virus-related chronic liver disease. Demographic and clinical '\n",
      "               'features, including stage and grade of liver histology, were '\n",
      "               'comparable between hepatitis G virus-infected and uninfected '\n",
      "               'subjects. Severe liver damage [chronic hepatitis with fibrosis '\n",
      "               'or cirrhosis) were significantly more frequent in subjects '\n",
      "               'with hepatitis C virus liver disease.',\n",
      "               'At least one marker of hepatitis G virus infection (hepatitis '\n",
      "               'G virus-RNA and/or anti-hepatitis G virus, mostly mutually '\n",
      "               'exclusive) was present in 6 out of 23 patients with '\n",
      "               'cryptogenic hepatitis and 16 out of 40 with hepatitis C virus '\n",
      "               'liver disease (26. 1% vs 40% p=ns). T virus-DNA was present in '\n",
      "               'serum in 3 subjects, 1 with cryptogenic and 2 with hepatitis C '\n",
      "               'virus-related chronic liver disease. Demographic and clinical '\n",
      "               'features, including stage and grade of liver histology, were '\n",
      "               'comparable between hepatitis G virus-infected and uninfected '\n",
      "               'subjects. Severe liver damage [chronic hepatitis with fibrosis '\n",
      "               'or cirrhosis) were significantly more frequent in subjects '\n",
      "               'with hepatitis C virus liver disease.']],\n",
      " 'ground_truths': [['The great majority of U.S. renal transplant centers will '\n",
      "                    'not transplant kidneys to HIV-infected patients with '\n",
      "                    'end-stage renal disease, even if their infection is '\n",
      "                    'asymptomatic. However, advances in the management of HIV '\n",
      "                    'infection and a review of relevant ethical issues suggest '\n",
      "                    'that this approach should be reconsidered.']],\n",
      " 'question': ['Should all human immunodeficiency virus-infected patients with '\n",
      "              'end-stage renal disease be excluded from transplantation?']}\n"
     ]
    }
   ],
   "source": [
    "eval_data = {\n",
    "    \"question\": [query],\n",
    "    \"answer\": [response.response],\n",
    "    \"contexts\": [[node.text for node in retrieved_nodes]],\n",
    "    \"ground_truths\": [[sample_elm['long_answer']]],\n",
    "    }\n",
    "pprint(eval_data)"
   ]
  },
  {
   "cell_type": "code",
   "execution_count": 23,
   "id": "ed0582ac-b840-457d-86eb-4aa9d8fc43de",
   "metadata": {},
   "outputs": [
    {
     "name": "stderr",
     "output_type": "stream",
     "text": [
      "passing column names as 'ground_truths' is deprecated and will be removed in the next version, please use 'ground_truth' instead. Note that `ground_truth` should be of type string and not Sequence[string] like `ground_truths`\n"
     ]
    },
    {
     "data": {
      "application/vnd.jupyter.widget-view+json": {
       "model_id": "d6351b466a0047798c69a0737d57a27c",
       "version_major": 2,
       "version_minor": 0
      },
      "text/plain": [
       "Evaluating:   0%|          | 0/3 [00:00<?, ?it/s]"
      ]
     },
     "metadata": {},
     "output_type": "display_data"
    },
    {
     "name": "stdout",
     "output_type": "stream",
     "text": [
      "{'faithfulness': 0.2500, 'answer_relevancy': 0.9437, 'context_precision': 1.0000}\n"
     ]
    }
   ],
   "source": [
    "eval_obj = RagasEval(\n",
    "            metrics=[\"faithfulness\", \"relevancy\", \"precision\"], \n",
    "            eval_llm_type=rag_cfg[\"eval_llm_type\"], eval_llm_name=rag_cfg[\"eval_llm_name\"]\n",
    "            )\n",
    "eval_result = eval_obj.evaluate(eval_data)\n",
    "print(eval_result)"
   ]
  },
  {
   "cell_type": "markdown",
   "id": "dfe5bcc7-900b-4939-aa71-65385b5c765c",
   "metadata": {},
   "source": [
    "### 5.1 - Dense Search\n",
    "Set *hybrid_search_alpha* to 1.0 for dense vector search."
   ]
  },
  {
   "cell_type": "code",
   "execution_count": 24,
   "id": "131eaa05-ae98-481c-9967-cc6c74b9d383",
   "metadata": {},
   "outputs": [],
   "source": [
    "rag_cfg[\"hybrid_search_alpha\"] = 1.0"
   ]
  },
  {
   "cell_type": "code",
   "execution_count": 25,
   "id": "9fba7d70-0bd7-42b7-ba52-f1924e96b338",
   "metadata": {},
   "outputs": [
    {
     "name": "stdout",
     "output_type": "stream",
     "text": [
      "{'hybrid_search_alpha': 1.0,\n",
      " 'query_mode': 'hybrid',\n",
      " 'response_mode': 'compact',\n",
      " 'similarity_top_k': 5,\n",
      " 'use_reranker': False}\n",
      "QUERY: Should all human immunodeficiency virus-infected patients with end-stage renal disease be excluded from transplantation?\n",
      "RESPONSE:  Based on the context information provided, I would say no to the query. The majority of transplant centers in the United States do not currently transplant kidneys from HIV-infected donors into HIV-infected recipients, even if the recipient is otherwise a good candidate for transplantation. However, there are some centers that would consider transplanting an HIV-infected patient, but none of them had performed such a transplant in the year prior to the survey.\n",
      "It is important to note that the management and prognosis of HIV-infected patients have improved significantly in recent years, which may warrant a reevaluation of the current policy excluding them from transplantation. However, the majority of centers still fear that transplantation in the face of HIV infection would be harmful to the individual, and some believe that it would be a waste of precious organs.\n",
      "In conclusion, while there are some centers that would consider transplanting an HIV-infected patient, the current policy excluding them from transplantation is still in place due to concerns about the safety and efficacy of such a procedure.\n",
      "YES/NO: no\n",
      "GT ANSWER: ['no']\n",
      "GT LONG ANSWER: The great majority of U.S. renal transplant centers will not transplant kidneys to HIV-infected patients with end-stage renal disease, even if their infection is asymptomatic. However, advances in the management of HIV infection and a review of relevant ethical issues suggest that this approach should be reconsidered.\n"
     ]
    }
   ],
   "source": [
    "# Recreate query engine\n",
    "query_engine_args = set_query_engine_args(rag_cfg, docs)\n",
    "pprint(query_engine_args)\n",
    "query_engine = RAGQueryEngine(\n",
    "    retriever_type=rag_cfg['retriever_type'], vector_index=index, llm_model_name=rag_cfg['llm_name']).create(**query_engine_args)\n",
    "\n",
    "# Get response\n",
    "response = query_engine.query(query)\n",
    "\n",
    "# Print response\n",
    "print(f'QUERY: {query}')\n",
    "print(f'RESPONSE: {response}')\n",
    "print(f'YES/NO: {extract_yes_no(response.response)}')\n",
    "print(f'GT ANSWER: {sample_elm[\"answer\"]}')\n",
    "print(f'GT LONG ANSWER: {sample_elm[\"long_answer\"]}')"
   ]
  },
  {
   "cell_type": "markdown",
   "id": "893b4da5-2391-49ca-bbe6-ed7f2433faa5",
   "metadata": {},
   "source": [
    "#### [OPTIONAL] Ragas evaluation"
   ]
  },
  {
   "cell_type": "code",
   "execution_count": 27,
   "id": "78b240d3-2b09-4c28-8c20-6d9be47dc963",
   "metadata": {},
   "outputs": [
    {
     "name": "stderr",
     "output_type": "stream",
     "text": [
      "passing column names as 'ground_truths' is deprecated and will be removed in the next version, please use 'ground_truth' instead. Note that `ground_truth` should be of type string and not Sequence[string] like `ground_truths`\n"
     ]
    },
    {
     "data": {
      "application/vnd.jupyter.widget-view+json": {
       "model_id": "922798e54ed04500ace17135ecbebc2b",
       "version_major": 2,
       "version_minor": 0
      },
      "text/plain": [
       "Evaluating:   0%|          | 0/3 [00:00<?, ?it/s]"
      ]
     },
     "metadata": {},
     "output_type": "display_data"
    },
    {
     "name": "stderr",
     "output_type": "stream",
     "text": [
      "Invalid JSON response. Expected dictionary with key 'question'\n"
     ]
    },
    {
     "name": "stdout",
     "output_type": "stream",
     "text": [
      "{'faithfulness': 0.6000, 'answer_relevancy': nan, 'context_precision': 1.0000}\n"
     ]
    }
   ],
   "source": [
    "retrieved_nodes = query_engine.retriever.retrieve(query)\n",
    "\n",
    "eval_data = {\n",
    "    \"question\": [query],\n",
    "    \"answer\": [response.response],\n",
    "    \"contexts\": [[node.text for node in retrieved_nodes]],\n",
    "    \"ground_truths\": [[sample_elm['long_answer']]],\n",
    "    }\n",
    "\n",
    "eval_result = eval_obj.evaluate(eval_data)\n",
    "print(eval_result)"
   ]
  },
  {
   "cell_type": "markdown",
   "id": "69911c71-1639-4ed8-86cb-85abbbc15467",
   "metadata": {},
   "source": [
    "### 5.2 - Hybrid Search\n",
    "Set *hybrid_search_alpha* to 0.5 for hybrid search with equal weightage for dense and sparse (keyword-based) search."
   ]
  },
  {
   "cell_type": "code",
   "execution_count": 28,
   "id": "6a526b44-5473-4850-9209-7f9b9446f5b3",
   "metadata": {},
   "outputs": [],
   "source": [
    "rag_cfg[\"hybrid_search_alpha\"] = 0.5"
   ]
  },
  {
   "cell_type": "code",
   "execution_count": 29,
   "id": "bf513126-01fe-4f6f-b18a-b6c5224f07e0",
   "metadata": {},
   "outputs": [
    {
     "name": "stdout",
     "output_type": "stream",
     "text": [
      "{'hybrid_search_alpha': 0.5,\n",
      " 'query_mode': 'hybrid',\n",
      " 'response_mode': 'compact',\n",
      " 'similarity_top_k': 5,\n",
      " 'use_reranker': False}\n",
      "QUERY: Should all human immunodeficiency virus-infected patients with end-stage renal disease be excluded from transplantation?\n",
      "RESPONSE:  Based on the context information provided, I would say no to the query. The majority of the transplant centers surveyed in the United States do not exclude HIV-infected patients with end-stage renal disease from transplantation, and some centers have even performed transplants on such patients in the past. While there are concerns about the safety of transplanting organs from HIV-infected donors, the advances in the management and prognosis of HIV infection suggest that this policy should be reevaluated. Additionally, the study on HIV-infected patients with no clinical symptoms of coronary artery disease found that myocardial SPECT should be used for screening these patients, which further supports the idea that HIV-infected patients with end-stage renal disease should not be automatically excluded from transplantation.\n",
      "YES/NO: no\n",
      "GT ANSWER: ['no']\n",
      "GT LONG ANSWER: The great majority of U.S. renal transplant centers will not transplant kidneys to HIV-infected patients with end-stage renal disease, even if their infection is asymptomatic. However, advances in the management of HIV infection and a review of relevant ethical issues suggest that this approach should be reconsidered.\n"
     ]
    }
   ],
   "source": [
    "# Recreate query engine\n",
    "query_engine_args = set_query_engine_args(rag_cfg, docs)\n",
    "pprint(query_engine_args)\n",
    "query_engine = RAGQueryEngine(\n",
    "    retriever_type=rag_cfg['retriever_type'], vector_index=index, llm_model_name=rag_cfg['llm_name']).create(**query_engine_args)\n",
    "\n",
    "# Get response\n",
    "response = query_engine.query(query)\n",
    "\n",
    "# Print response\n",
    "print(f'QUERY: {query}')\n",
    "print(f'RESPONSE: {response}')\n",
    "print(f'YES/NO: {extract_yes_no(response.response)}')\n",
    "print(f'GT ANSWER: {sample_elm[\"answer\"]}')\n",
    "print(f'GT LONG ANSWER: {sample_elm[\"long_answer\"]}')"
   ]
  },
  {
   "cell_type": "markdown",
   "id": "028e7abc-1fbd-4d66-a724-dddba4733721",
   "metadata": {},
   "source": [
    "#### [OPTIONAL] Ragas evaluation"
   ]
  },
  {
   "cell_type": "code",
   "execution_count": 30,
   "id": "03197082-eb44-46d7-b982-816f8811560f",
   "metadata": {},
   "outputs": [
    {
     "name": "stderr",
     "output_type": "stream",
     "text": [
      "passing column names as 'ground_truths' is deprecated and will be removed in the next version, please use 'ground_truth' instead. Note that `ground_truth` should be of type string and not Sequence[string] like `ground_truths`\n"
     ]
    },
    {
     "data": {
      "application/vnd.jupyter.widget-view+json": {
       "model_id": "598e3f76add640f7a1c0f395e8689c50",
       "version_major": 2,
       "version_minor": 0
      },
      "text/plain": [
       "Evaluating:   0%|          | 0/3 [00:00<?, ?it/s]"
      ]
     },
     "metadata": {},
     "output_type": "display_data"
    },
    {
     "name": "stdout",
     "output_type": "stream",
     "text": [
      "{'faithfulness': 0.5000, 'answer_relevancy': 0.9745, 'context_precision': 1.0000}\n"
     ]
    }
   ],
   "source": [
    "retrieved_nodes = query_engine.retriever.retrieve(query)\n",
    "\n",
    "eval_data = {\n",
    "    \"question\": [query],\n",
    "    \"answer\": [response.response],\n",
    "    \"contexts\": [[node.text for node in retrieved_nodes]],\n",
    "    \"ground_truths\": [[sample_elm['long_answer']]],\n",
    "    }\n",
    "\n",
    "eval_result = eval_obj.evaluate(eval_data)\n",
    "print(eval_result)"
   ]
  },
  {
   "cell_type": "markdown",
   "id": "17ca6e00-2580-4d98-a832-3fd0f8094e1a",
   "metadata": {},
   "source": [
    "### 5.3 - Using Re-ranker\n",
    "Set *use_reranker* to *True* to re-rank the context after retrieving it from the vector database."
   ]
  },
  {
   "cell_type": "code",
   "execution_count": 31,
   "id": "acad8e06-e9a1-4d3c-b6e5-fa8bc6b1b8a6",
   "metadata": {},
   "outputs": [],
   "source": [
    "rag_cfg[\"use_reranker\"] = True\n",
    "rag_cfg[\"hybrid_search_alpha\"] = 1.0 # Using dense search"
   ]
  },
  {
   "cell_type": "code",
   "execution_count": 32,
   "id": "6c714b8f-45db-4ab6-9e28-7afa8c8a31ed",
   "metadata": {},
   "outputs": [
    {
     "name": "stdout",
     "output_type": "stream",
     "text": [
      "{'hybrid_search_alpha': 1.0,\n",
      " 'query_mode': 'hybrid',\n",
      " 'rerank_top_k': 3,\n",
      " 'response_mode': 'compact',\n",
      " 'similarity_top_k': 5,\n",
      " 'use_reranker': True}\n",
      "QUERY: Should all human immunodeficiency virus-infected patients with end-stage renal disease be excluded from transplantation?\n",
      "RESPONSE:  Based on the context information provided, I would say no to the query. The majority of the responding transplant centers in the United States do not support excluding all HIV-infected patients with end-stage renal disease from transplantation, as they recognize that recent advances in the management and prognosis of HIV infection suggest that this policy should be reevaluated. While the majority of centers are hesitant to transplant HIV-infected patients, some centers are willing to consider transplantation in certain cases. Therefore, it is not a blanket exclusion.\n",
      "YES/NO: no\n",
      "GT ANSWER: ['no']\n",
      "GT LONG ANSWER: The great majority of U.S. renal transplant centers will not transplant kidneys to HIV-infected patients with end-stage renal disease, even if their infection is asymptomatic. However, advances in the management of HIV infection and a review of relevant ethical issues suggest that this approach should be reconsidered.\n"
     ]
    }
   ],
   "source": [
    "# Recreate query engine\n",
    "query_engine_args = set_query_engine_args(rag_cfg, docs)\n",
    "pprint(query_engine_args)\n",
    "query_engine = RAGQueryEngine(\n",
    "    retriever_type=rag_cfg['retriever_type'], vector_index=index, llm_model_name=rag_cfg['llm_name']).create(**query_engine_args)\n",
    "\n",
    "# Get response\n",
    "response = query_engine.query(query)\n",
    "\n",
    "# Print response\n",
    "print(f'QUERY: {query}')\n",
    "print(f'RESPONSE: {response}')\n",
    "print(f'YES/NO: {extract_yes_no(response.response)}')\n",
    "print(f'GT ANSWER: {sample_elm[\"answer\"]}')\n",
    "print(f'GT LONG ANSWER: {sample_elm[\"long_answer\"]}')"
   ]
  },
  {
   "cell_type": "markdown",
   "id": "2b6f4714-ee80-46ba-bf14-ec4762f70a08",
   "metadata": {},
   "source": [
    "#### [OPTIONAL] Ragas evaluation"
   ]
  },
  {
   "cell_type": "code",
   "execution_count": 33,
   "id": "8e43ba3a-6824-4246-8df9-3e9ce7efa5b1",
   "metadata": {},
   "outputs": [
    {
     "name": "stderr",
     "output_type": "stream",
     "text": [
      "passing column names as 'ground_truths' is deprecated and will be removed in the next version, please use 'ground_truth' instead. Note that `ground_truth` should be of type string and not Sequence[string] like `ground_truths`\n"
     ]
    },
    {
     "data": {
      "application/vnd.jupyter.widget-view+json": {
       "model_id": "e44d3192892b4d77917cff08b5a5288b",
       "version_major": 2,
       "version_minor": 0
      },
      "text/plain": [
       "Evaluating:   0%|          | 0/3 [00:00<?, ?it/s]"
      ]
     },
     "metadata": {},
     "output_type": "display_data"
    },
    {
     "name": "stderr",
     "output_type": "stream",
     "text": [
      "Invalid JSON response. Expected dictionary with key 'question'\n"
     ]
    },
    {
     "name": "stdout",
     "output_type": "stream",
     "text": [
      "{'faithfulness': 0.2500, 'answer_relevancy': nan, 'context_precision': 1.0000}\n"
     ]
    }
   ],
   "source": [
    "retrieved_nodes = query_engine.retriever.retrieve(query)\n",
    "\n",
    "eval_data = {\n",
    "    \"question\": [query],\n",
    "    \"answer\": [response.response],\n",
    "    \"contexts\": [[node.text for node in retrieved_nodes]],\n",
    "    \"ground_truths\": [[sample_elm['long_answer']]],\n",
    "    }\n",
    "\n",
    "eval_result = eval_obj.evaluate(eval_data)\n",
    "print(eval_result)"
   ]
  }
 ],
 "metadata": {
  "kernelspec": {
   "display_name": "Python 3 (ipykernel)",
   "language": "python",
   "name": "python3"
  },
  "language_info": {
   "codemirror_mode": {
    "name": "ipython",
    "version": 3
   },
   "file_extension": ".py",
   "mimetype": "text/x-python",
   "name": "python",
   "nbconvert_exporter": "python",
   "pygments_lexer": "ipython3",
   "version": "3.10.12"
  }
 },
 "nbformat": 4,
 "nbformat_minor": 5
}

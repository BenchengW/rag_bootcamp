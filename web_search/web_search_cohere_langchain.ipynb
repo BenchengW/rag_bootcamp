{
 "cells": [
  {
   "cell_type": "markdown",
   "id": "3d86f6cd",
   "metadata": {},
   "source": [
    "# Cohere Web Search with Langchain"
   ]
  },
  {
   "cell_type": "markdown",
   "id": "4168e6b6",
   "metadata": {},
   "source": [
    "This example shows how to use the Python [langchain](https://python.langchain.com/docs/get_started/introduction) library to run a text-generation request against [Cohere's](https://cohere.com/) API, then augment that request using the results from a Google web search.\n",
    "\n",
    "**Requirements:**\n",
    "- You will need an access key to Cohere's API key, which you can sign up for at (https://dashboard.cohere.com/welcome/login). A free trial account will suffice, but will be limited to a small number of requests.\n",
    "- After obtaining this key, store it in plain text in your home in directory in the `~/.cohere.key` file."
   ]
  },
  {
   "cell_type": "markdown",
   "id": "22e4da1f",
   "metadata": {},
   "source": [
    "## Set up the RAG workflow environment"
   ]
  },
  {
   "cell_type": "code",
   "execution_count": 1,
   "id": "2f637730",
   "metadata": {},
   "outputs": [],
   "source": [
    "from bs4 import BeautifulSoup\n",
    "from getpass import getpass\n",
    "from googlesearch import search\n",
    "import os\n",
    "from pathlib import Path\n",
    "import requests\n",
    "\n",
    "from langchain.chains import RetrievalQA\n",
    "from langchain.embeddings import HuggingFaceBgeEmbeddings\n",
    "from langchain.llms import Cohere\n",
    "from langchain.retrievers import ContextualCompressionRetriever\n",
    "from langchain.retrievers.document_compressors import CohereRerank\n",
    "from langchain.text_splitter import RecursiveCharacterTextSplitter\n",
    "from langchain.vectorstores import FAISS"
   ]
  },
  {
   "cell_type": "markdown",
   "id": "12ecf9ac",
   "metadata": {},
   "source": [
    "Set up some helper functions:"
   ]
  },
  {
   "cell_type": "code",
   "execution_count": 2,
   "id": "dd4e2417",
   "metadata": {},
   "outputs": [],
   "source": [
    "def pretty_print_docs(docs):\n",
    "    print(\n",
    "        f\"\\n{'-' * 100}\\n\".join(\n",
    "            [f\"Document {i+1}:\\n\\n\" + d.page_content for i, d in enumerate(docs)]\n",
    "        )\n",
    "    )"
   ]
  },
  {
   "cell_type": "markdown",
   "id": "d9edd103",
   "metadata": {},
   "source": [
    "Make sure other necessary items are in place:"
   ]
  },
  {
   "cell_type": "code",
   "execution_count": 3,
   "id": "74b61e4f",
   "metadata": {},
   "outputs": [],
   "source": [
    "try:\n",
    "    os.environ[\"COHERE_API_KEY\"] = open(Path.home() / \".cohere.key\", \"r\").read().strip()\n",
    "except Exception:\n",
    "    print(f\"ERROR: You must have a Cohere API key available in your home directory at ~/.cohere.key\")"
   ]
  },
  {
   "cell_type": "markdown",
   "id": "1e558afb",
   "metadata": {},
   "source": [
    "## Start with a basic generation request without RAG augmentation\n",
    "\n",
    "Let's start by asking the Cohere LLM a question about recent events that it doesn't know about, something that happened after it finished training. At the time I'm writing this notebook in January 2024, Cohere doesn't know who won the last World Series of baseball.\n",
    "\n",
    "**The correct answer is the Texas Rangers won in November 2023.**\n",
    "\n",
    "\"*Who won the 2023 World Series of baseball?*\""
   ]
  },
  {
   "cell_type": "code",
   "execution_count": 4,
   "id": "6133a928",
   "metadata": {},
   "outputs": [],
   "source": [
    "query = \"Who won the 2023 World Series of baseball?\""
   ]
  },
  {
   "cell_type": "markdown",
   "id": "3bccaf41",
   "metadata": {},
   "source": [
    "## Now send the query to Cohere"
   ]
  },
  {
   "cell_type": "code",
   "execution_count": 5,
   "id": "40c2663f",
   "metadata": {},
   "outputs": [
    {
     "name": "stderr",
     "output_type": "stream",
     "text": [
      "/ssd003/projects/aieng/public/rag_bootcamp/envs/rag_dataloaders/lib/python3.10/site-packages/langchain_core/_api/deprecation.py:117: LangChainDeprecationWarning: The function `__call__` was deprecated in LangChain 0.1.7 and will be removed in 0.2.0. Use invoke instead.\n",
      "  warn_deprecated(\n"
     ]
    },
    {
     "name": "stdout",
     "output_type": "stream",
     "text": [
      "Result: \n",
      "\n",
      " The 2023 World Series has not yet been played, and therefore no winner has been determined yet. The 2022 World Series was won by the Houston Astros, who defeated the Philadelphia Phillies to win their second title in franchise history. \n",
      "\n",
      "Would you like to know more about the World Series? \n"
     ]
    }
   ],
   "source": [
    "llm = Cohere()\n",
    "result = llm(query)\n",
    "print(f\"Result: \\n\\n{result}\")"
   ]
  },
  {
   "cell_type": "markdown",
   "id": "e6e1c200",
   "metadata": {},
   "source": [
    "At the best, the Cohere LLM admits that it doesn't know. At worst, it tells a lie and says the Houston Astros won (they won the year before, in 2022).\n",
    "\n",
    "Let's see how we can use RAG to augment our question with a Google wen search and get the correct answer."
   ]
  },
  {
   "cell_type": "markdown",
   "id": "0255ea68",
   "metadata": {},
   "source": [
    "## Ingestion: Load and store the documents from source-materials"
   ]
  },
  {
   "cell_type": "markdown",
   "id": "ba9d0304",
   "metadata": {},
   "source": [
    "Start by reading in all the PDF files from `source-materials`, break them up into smaller digestible chunks, then encode them as vector embeddings."
   ]
  },
  {
   "cell_type": "code",
   "execution_count": 6,
   "id": "5710c72d",
   "metadata": {},
   "outputs": [
    {
     "name": "stdout",
     "output_type": "stream",
     "text": [
      "Number of text chunks: 468\n",
      "\n",
      "Setting up the embeddings model...\n",
      "\n",
      "Done\n"
     ]
    }
   ],
   "source": [
    "# Do a Google web search and parse the results into a big text string\n",
    "result_text = \"\"\n",
    "for result_url in search(query, tld=\"com\", num=10, stop=10, pause=2):\n",
    "    response = requests.get(result_url)\n",
    "    soup = BeautifulSoup(response.content, 'html.parser')\n",
    "    result_text = result_text + soup.get_text()\n",
    "\n",
    "# Split the result text into smaller chunks\n",
    "text_splitter = RecursiveCharacterTextSplitter(chunk_size=1000, chunk_overlap=150)\n",
    "chunks = text_splitter.split_text(result_text)\n",
    "print(f\"Number of text chunks: {len(chunks)}\\n\")\n",
    "\n",
    "# Define Embeddings Model\n",
    "model_name = \"BAAI/bge-small-en-v1.5\"\n",
    "encode_kwargs = {'normalize_embeddings': True} # set True to compute cosine similarity\n",
    "\n",
    "print(f\"Setting up the embeddings model...\\n\")\n",
    "embeddings = HuggingFaceBgeEmbeddings(\n",
    "    model_name=model_name,\n",
    "    model_kwargs={'device': 'cuda'},\n",
    "    encode_kwargs=encode_kwargs\n",
    ")\n",
    "\n",
    "print(\"Done\")"
   ]
  },
  {
   "cell_type": "markdown",
   "id": "b4a7545e",
   "metadata": {},
   "source": [
    "# Retrieval: Make the document chunks available via a retriever"
   ]
  },
  {
   "cell_type": "markdown",
   "id": "01bc16fe",
   "metadata": {},
   "source": [
    "The retriever will identify the document chunks that most closely match our original query. (This takes about 1-2 minutes)"
   ]
  },
  {
   "cell_type": "code",
   "execution_count": 7,
   "id": "1048c42a",
   "metadata": {},
   "outputs": [],
   "source": [
    "vectorstore = FAISS.from_texts(chunks, embeddings)\n",
    "retriever = vectorstore.as_retriever(search_kwargs={\"k\": 20})\n",
    "\n",
    "# Retrieve the most relevant context from the vector store based on the query(No Reranking Applied)\n",
    "docs = retriever.get_relevant_documents(query)"
   ]
  },
  {
   "cell_type": "markdown",
   "id": "8fe1690e",
   "metadata": {},
   "source": [
    "Let's see what results it found. Important to note, these results are in the order the retriever thought were the best matches."
   ]
  },
  {
   "cell_type": "code",
   "execution_count": 8,
   "id": "075ede5c",
   "metadata": {},
   "outputs": [
    {
     "name": "stdout",
     "output_type": "stream",
     "text": [
      "Document 1:\n",
      "\n",
      "The Rangers finished the 2023 season with a 90-72 record, losing the AL West title to the Houston Astros on a tiebreaker. On November 1, 2023, the Rangers won the World Series after defeating the Arizona Diamondbacks in five games, achieving their first World Series championship in franchise history.[70]\n",
      "----------------------------------------------------------------------------------------------------\n",
      "Document 2:\n",
      "\n",
      "Toggle limited content width\n",
      "\n",
      "\n",
      "\n",
      "\n",
      "\n",
      "\n",
      "\n",
      "Texas Rangers Win The 2023 World Series Championship üèÜ - YouTubeAboutPressCopyrightContact usCreatorAdvertiseDevelopersTermsPrivacyPolicy & SafetyHow YouTube worksTest new features© 2024 Google LLC\n",
      "----------------------------------------------------------------------------------------------------\n",
      "Document 3:\n",
      "\n",
      "162\n",
      "October 1\n",
      "Red Sox\n",
      "1–6\n",
      "Houck (6–10)\n",
      "Coulombe (5–3)\n",
      "—\n",
      "36,640\n",
      "101–61\n",
      "L1\n",
      "\n",
      "\n",
      "\n",
      "\n",
      "Post-season[edit]\n",
      "Main article: 2023 Major League Baseball postseason\n",
      "The Orioles made the post-season for the first time since 2016 and won the AL East for the first time since 2014. The received a bye in the Wild Card Series by virtue of finishing in the top-2 of the American League.\n",
      "\n",
      "Division Series[edit]\n",
      "Main article: 2023 American League Division Series\n",
      "The Orioles faced the Texas Rangers in the American League Division Series. This was the second postseason meeting between the Orioles and Rangers, following their 2012 American League Wild Card Game match-up, which the Orioles won 5–1. The Orioles had an extremely disappointing ALDS against the Texas Rangers, as they were upset and swept with losses of 3–2, 11–8, and 7–1. The Rangers would go on to defeat the Houston Astros in the ALCS 4–3 in seven games, and would win the World Series 4–1 over the Arizona Diamondbacks in five games.\n",
      "----------------------------------------------------------------------------------------------------\n",
      "Document 4:\n",
      "\n",
      "The 2023 Major League Baseball season (MLB) began on March 30.[1] The 93rd All-Star Game was played on July 11, hosted by the Seattle Mariners at T-Mobile Park in Seattle, Washington, with the National League winning, 3–2.[2] The regular season ended on October 1, and the postseason began on October 3, and ended with Game 5 of  the World Series on November 1.  This season saw the introduction of several rule changes: in an effort to create a quicker pace of play, a pitch clock was introduced along with other minor changes, while limits on defensive shifts and larger bases were also introduced.\n",
      "----------------------------------------------------------------------------------------------------\n",
      "Document 5:\n",
      "\n",
      "Retrieved from \"https://en.wikipedia.org/w/index.php?title=2023_Major_League_Baseball_season&oldid=1201907778\"\n",
      "Categories: 2023 Major League Baseball seasonMajor League Baseball seasonsHidden categories: Use mdy dates from April 2023Articles with short descriptionShort description matches WikidataAll articles with unsourced statementsArticles with unsourced statements from August 2023Articles with unsourced statements from September 2023\n",
      "\n",
      "\n",
      "\n",
      "\n",
      "\n",
      "\n",
      " This page was last edited on 1 February 2024, at 16:46 (UTC).\n",
      "Text is available under the Creative Commons Attribution-ShareAlike License 4.0;\n",
      "additional terms may apply.  By using this site, you agree to the Terms of Use and Privacy Policy. Wikipedia® is a registered trademark of the Wikimedia Foundation, Inc., a non-profit organization.\n",
      "\n",
      "\n",
      "Privacy policy\n",
      "About Wikipedia\n",
      "Disclaimers\n",
      "Contact Wikipedia\n",
      "Code of Conduct\n",
      "Developers\n",
      "Statistics\n",
      "Cookie statement\n",
      "Mobile view\n",
      "\n",
      "\n",
      "\n",
      "\n",
      "\n",
      "\n",
      "\n",
      "\n",
      "\n",
      "\n",
      "\n",
      "\n",
      "\n",
      "Toggle limited content width\n",
      "----------------------------------------------------------------------------------------------------\n",
      "Document 6:\n",
      "\n",
      "The 2024 Major League Baseball season (MLB) is scheduled to begin on March 20–21 with a two-game series between the Los Angeles Dodgers and the San Diego Padres held in Seoul, South Korea before the regular season proper runs from March 28 to September 29.[1] The 94th All-Star Game is planned for July 16 at Globe Life Field in Arlington, Texas. The postseason is then scheduled to begin on October 1 with a potential World Series Game 7 set for November 2. Going into the season, the defending World Series champions are the Texas Rangers.\n",
      "The Oakland Athletics were approved by MLB owners to relocate to Las Vegas. The timeline of the move is still under discussion.[2]\n",
      "----------------------------------------------------------------------------------------------------\n",
      "Document 7:\n",
      "\n",
      "In other projects\n",
      "\t\n",
      "\n",
      "\n",
      "Wikimedia Commons\n",
      "\n",
      "\n",
      "\n",
      "\n",
      "\n",
      "\n",
      "\n",
      "\n",
      "\n",
      "\n",
      "\n",
      "\n",
      "\n",
      "\n",
      "\n",
      "\n",
      "\n",
      "\n",
      "\n",
      "\n",
      "\n",
      "\n",
      "\n",
      "\n",
      "\n",
      "From Wikipedia, the free encyclopedia\n",
      "\n",
      "\n",
      "Major League Baseball team season\n",
      "\n",
      "\n",
      "2023 Baltimore OriolesAmerican League East ChampionsLeagueAmerican LeagueDivisionEastBallparkOriole Park at Camden YardsCityBaltimore, MarylandRecord101–61 (.623)Divisional place1stOwnersPeter AngelosGeneral managersMike EliasManagersBrandon HydeTelevisionMASN(Kevin Brown, Jim Palmer, and Ben McDonald)RadioWBAL-AMBaltimore Orioles Radio Network(Geoff Arnold, Brett Hollander, and Melanie Newman)\n",
      "← 2022\n",
      "Seasons\n",
      "2024 →\n",
      "----------------------------------------------------------------------------------------------------\n",
      "Document 8:\n",
      "\n",
      "The 2023 Miami Marlins season was the 31st season for the Major League Baseball (MLB) franchise in the National League and the 12th as the Miami Marlins. The Marlins played their home games at LoanDepot Park as members of the National League East. It also was the team's first season under the management of Skip Schumaker.\n",
      "On May 10, the Marlins set an MLB record 12th consecutive one-run game won to start a season, jumping the 1972 New York Mets who started 11-0.[1]\n",
      "With a win over the Washington Nationals on September 3, the Marlins improved on their 69–93 record from the 2022 season. Following another win against the Milwaukee Brewers on September 24, their 81st of the season, the Marlins secured their first non-losing full season since the 2009 season, when the team was still known as the Florida Marlins.\n",
      "----------------------------------------------------------------------------------------------------\n",
      "Document 9:\n",
      "\n",
      "The 2023 Baltimore Orioles season was the 123rd season in Baltimore Orioles franchise history, the 70th in Baltimore, and the 32nd at Oriole Park at Camden Yards. The Orioles improved on their 83–79 season from 2022, with their 84th win coming on September 2. On September 4, after the Orioles defeated the Los Angeles Angels, they established a new American League record by surpassing the 1922–24 New York Yankees with 84 consecutive series of two-plus games of not being swept.[1] The Orioles tied their win total from 2016 with their win over the Red Sox on September 8, and the win against the St. Louis Cardinals on September 11 ensured that the Orioles won at least one game against all MLB opponents in the regular season. The Orioles clinched a playoff spot with the Texas Rangers' loss on September 17, shortly before their own win over the Tampa Bay Rays. This was Baltimore's first postseason appearance since 2016.[2] On September 28, the Orioles clinched the division title for the\n",
      "----------------------------------------------------------------------------------------------------\n",
      "Document 10:\n",
      "\n",
      "Texas Rangers:\n",
      "With their victory on the road in Game 4 of the 2023 World Series against the Arizona Diamondbacks, it was the Rangers' tenth straight road victory, setting the Major League record for most consecutive road wins in postseason history. The Rangers broke the record of nine that was held by two New York Yankees teams.[125]\n",
      "Awards and honors[edit]\n",
      "Regular season[edit]\n",
      "----------------------------------------------------------------------------------------------------\n",
      "Document 11:\n",
      "\n",
      "There were 40 pitch clock violations through 50 total games\n",
      "Stolen base attempts were more frequent and successful (70 stolen on 84 attempts in 2023 compared to 29-of-43 in 2022)\n",
      "OPS was up from .682 to .715, observing that this production increase was due to an increase in singles.[5]\n",
      "Awards[edit]\n",
      "Following his 2022 campaign, catcher Adley Rutschman was announced as runner-up for 2022 AL Rookie of the Year, finishing behind Seattle's Julio Rodriguez.[6]\n",
      "Ramón Urías was awarded a Gold Glove for his defensive work at third base in 2022. Toronto's Matt Chapman and Cleveland's José Ramírez were the other finalists for the AL third baseman honor. Cedric Mullins was also a finalist for the center field award, alongside Kansas City's Michael A. Taylor and Cleveland's Myles Straw, who won at that position.[7]\n",
      "----------------------------------------------------------------------------------------------------\n",
      "Document 12:\n",
      "\n",
      "NL East\n",
      "Atlanta\n",
      "Miami\n",
      "New York\n",
      "Philadelphia\n",
      "Washington\n",
      "NL Central\n",
      "Chicago\n",
      "Cincinnati\n",
      "Milwaukee\n",
      "Pittsburgh\n",
      "St. Louis\n",
      "NL West\n",
      "Arizona\n",
      "Colorado\n",
      "Los Angeles\n",
      "San Diego\n",
      "San Francisco\n",
      "\n",
      "\n",
      "2023 MLB draft\n",
      "2023 All-Star Game\n",
      "MLB Little League Classic\n",
      "2023 World Series\n",
      "----------------------------------------------------------------------------------------------------\n",
      "Document 13:\n",
      "\n",
      "This page was last edited on 2 February 2024, at 20:39 (UTC).\n",
      "Text is available under the Creative Commons Attribution-ShareAlike License 4.0;\n",
      "additional terms may apply.  By using this site, you agree to the Terms of Use and Privacy Policy. Wikipedia® is a registered trademark of the Wikimedia Foundation, Inc., a non-profit organization.\n",
      "\n",
      "\n",
      "Privacy policy\n",
      "About Wikipedia\n",
      "Disclaimers\n",
      "Contact Wikipedia\n",
      "Code of Conduct\n",
      "Developers\n",
      "Statistics\n",
      "Cookie statement\n",
      "Mobile view\n",
      "\n",
      "\n",
      "\n",
      "\n",
      "\n",
      "\n",
      "\n",
      "\n",
      "\n",
      "\n",
      "\n",
      "\n",
      "\n",
      "Toggle limited content width\n",
      "\n",
      "\n",
      "\n",
      "\n",
      "\n",
      "\n",
      "\n",
      "\n",
      "\n",
      "\n",
      "\n",
      "Rangers win 2023 World Series\n",
      "----------------------------------------------------------------------------------------------------\n",
      "Document 14:\n",
      "\n",
      "84\n",
      "78\n",
      "\n",
      "0.519\n",
      "\n",
      "16\n",
      "\n",
      "43–38\n",
      "\n",
      "41–40\n",
      "\n",
      "\n",
      "San Diego Padres\n",
      "\n",
      "82\n",
      "80\n",
      "\n",
      "0.506\n",
      "\n",
      "18\n",
      "\n",
      "44–37\n",
      "\n",
      "38–43\n",
      "\n",
      "\n",
      "San Francisco Giants\n",
      "\n",
      "79\n",
      "83\n",
      "\n",
      "0.488\n",
      "\n",
      "21\n",
      "\n",
      "45–36\n",
      "\n",
      "34–47\n",
      "\n",
      "\n",
      "Colorado Rockies\n",
      "\n",
      "59\n",
      "103\n",
      "\n",
      "0.364\n",
      "\n",
      "41\n",
      "\n",
      "37–44\n",
      "\n",
      "22–59\n",
      "\n",
      "\n",
      "\n",
      "\n",
      "Tiebreakers[edit]\n",
      "The Houston Astros clinched the AL West over the Texas Rangers by winning the head-to-head regular season series 9–4.\n",
      "The Miami Marlins clinched the fifth seed over the Arizona Diamondbacks by winning the head-to-head regular season series 4–2, making the Marlins' suspended September 28 game against the New York Mets unnecessary to complete. That game was declared complete after eight innings as a 1–0 Mets victory.[8]\n",
      "Postseason[edit]\n",
      "Main article: 2023 Major League Baseball postseason\n",
      "The Postseason began on October 3 and ended with Game 5 on November 1.[9]\n",
      "----------------------------------------------------------------------------------------------------\n",
      "Document 15:\n",
      "\n",
      "^ \"Orioles sending 6 players to 2023 World Baseball Classic\". WBAL. WBAL. February 10, 2023. Retrieved February 10, 2023.\n",
      "\n",
      "^ \"WBC Player Stats\". MLB.com. MLB.com. February 10, 2023. Retrieved March 21, 2023.\n",
      "\n",
      "^ \"Yanks-O's series opener postponed from Thurs to Fri\". mlb.com. Major League Baseball. Retrieved April 28, 2023.\n",
      "----------------------------------------------------------------------------------------------------\n",
      "Document 16:\n",
      "\n",
      "^ \"'The 2023 Sporting News MLB Award Winners and All-Stars'\". October 26, 2023.\n",
      "\n",
      "^ \"Hendriks, Bellinger win Comeback Player of the Year Awards\". MLB.com.\n",
      "\n",
      "^ \"Ohtani, Acuña pad trophy cases with Hank Aaron Awards\". MLB.com.\n",
      "\n",
      "^ \"New York Yankees' Aaron Judge wins MLB Roberto Clemente Award\". espn.com. October 30, 2023. Retrieved October 30, 2023.\n",
      "\n",
      "^ \"Semien named Heart & Hustle Award winner\". MLB.com.\n",
      "\n",
      "^ \"Blake Snell wins OKC-based Warren Spahn Award as MLB's best left-handed pitcher\". December 6, 2023.\n",
      "\n",
      "^ \"2023 Fielding Bible Award Winners\". www.sportsinfosolutions.com/. October 26, 2023.\n",
      "\n",
      "^ reports, From staff (January 16, 2023). \"Cardinals Warm-up day 3: Cardinals will wear City Connect uniforms in 2024\". STLtoday.com. Retrieved January 14, 2024.\n",
      "\n",
      "^ @Dbacks (February 23, 2023). \"Look good\" (Tweet). Retrieved March 29, 2023 – via Twitter.\n",
      "----------------------------------------------------------------------------------------------------\n",
      "Document 17:\n",
      "\n",
      "^ Casella, Paul (November 14, 2023). \"Hyde, Schumaker named Managers of Year after stunning turnarounds\". MLB.com. Retrieved November 14, 2023.\n",
      "\n",
      "^ Castrovince, Anthony (November 15, 2023). \"Cole wins long-awaited first Cy Young while Snell snags second\". MLB.com. Retrieved November 15, 2023.\n",
      "\n",
      "^ Castrovince, Anthony (November 16, 2023). \"Unanimous MVPs Shohei, Acuña no strangers to making history\". MLB.com. Retrieved November 16, 2023.\n",
      "\n",
      "^ Randhawa, Manny (November 5, 2023). \"Breaking down the 2023 Gold Glove Award winners\". MLB.com. Retrieved November 5, 2023.\n",
      "\n",
      "^ a b Maguire, Brent (November 10, 2023). \"Tatis, Giménez honored for defense with Platinum Glove Award\". MLB.com. Retrieved November 12, 2023.\n",
      "\n",
      "^ Murphy, Brian (November 9, 2023). \"2023 Silver Slugger winners announced\". MLB.com. Retrieved November 9, 2023.\n",
      "\n",
      "^ \"Here are your 2023 All-MLB First and Second Team winners\". MLB.com.\n",
      "\n",
      "^ \"'The 2023 Sporting News MLB Award Winners and All-Stars'\". October 26, 2023.\n",
      "----------------------------------------------------------------------------------------------------\n",
      "Document 18:\n",
      "\n",
      "Sports season2023 MLB seasonLeagueMajor League BaseballSportBaseballDurationMarch 30 – November 1, 2023Number of games162Number of teams30TV partner(s)Fox/FS1TBSESPN/ABCMLB NetworkApple TV+NBC/PeacockDraftTop draft pickPaul SkenesPicked byPittsburgh PiratesRegular seasonSeason MVPNL: Ronald Acuña Jr. (ATL)AL: Shohei Ohtani (LAA)PostseasonAL championsTexas Rangers  AL runners-upHouston AstrosNL championsArizona Diamondbacks  NL runners-upPhiladelphia PhilliesWorld SeriesChampionsTexas Rangers  Runners-upArizona DiamondbacksWorld Series MVPCorey Seager (TEX) MLB seasons← 20222024 →\n",
      "AstrosAngelsAthleticsMarinersRangersWhite SoxGuardiansTigersRoyalsTwinsOriolesRed SoxYankeesRaysBlue JaysDiamondbacksRockiesDodgersPadresGiantsCubsRedsBrewersPiratesCardinalsBravesMarlinsMetsPhilliesNationalsclass=notpageimage| Locations of teams for the 2022–present Major League Baseball seasons AL West    AL Central    AL East NL West    NL Central    NL East\n",
      "----------------------------------------------------------------------------------------------------\n",
      "Document 19:\n",
      "\n",
      "2019: Milwaukee Brewers & Washington Nationals\n",
      "2020s\n",
      "2020: Cincinnati Reds & Milwaukee Brewers\n",
      "2021: Los Angeles Dodgers & St. Louis Cardinals \n",
      "2022: New York Mets, Philadelphia Phillies & San Diego Padres\n",
      "2023: Arizona Diamondbacks, Miami Marlins & Philadelphia Phillies\n",
      "----------------------------------------------------------------------------------------------------\n",
      "Document 20:\n",
      "\n",
      "Retrieved from \"https://en.wikipedia.org/w/index.php?title=2024_Major_League_Baseball_season&oldid=1202464834\"\n",
      "Categories: 2024 Major League Baseball seasonMajor League Baseball seasons2024 in baseballHidden categories: Use mdy dates from August 2023Articles with short descriptionShort description matches Wikidata\n",
      "\n",
      "\n",
      "\n",
      "\n",
      "\n",
      "\n",
      " This page was last edited on 2 February 2024, at 20:52 (UTC).\n",
      "Text is available under the Creative Commons Attribution-ShareAlike License 4.0;\n",
      "additional terms may apply.  By using this site, you agree to the Terms of Use and Privacy Policy. Wikipedia® is a registered trademark of the Wikimedia Foundation, Inc., a non-profit organization.\n",
      "\n",
      "\n",
      "Privacy policy\n",
      "About Wikipedia\n",
      "Disclaimers\n",
      "Contact Wikipedia\n",
      "Code of Conduct\n",
      "Developers\n",
      "Statistics\n",
      "Cookie statement\n",
      "Mobile view\n",
      "\n",
      "\n",
      "\n",
      "\n",
      "\n",
      "\n",
      "\n",
      "\n",
      "\n",
      "\n",
      "\n",
      "\n",
      "\n",
      "Toggle limited content width\n"
     ]
    }
   ],
   "source": [
    "pretty_print_docs(docs)"
   ]
  },
  {
   "cell_type": "markdown",
   "id": "3008507b",
   "metadata": {},
   "source": [
    "These results clearly indicate the correct answer. Let's try sending the query again with these results."
   ]
  },
  {
   "cell_type": "code",
   "execution_count": 9,
   "id": "23499f4a",
   "metadata": {},
   "outputs": [
    {
     "name": "stdout",
     "output_type": "stream",
     "text": [
      "Sending the RAG generation with query: Who won the 2023 World Series of baseball?\n"
     ]
    },
    {
     "name": "stderr",
     "output_type": "stream",
     "text": [
      "/ssd003/projects/aieng/public/rag_bootcamp/envs/rag_dataloaders/lib/python3.10/site-packages/langchain_core/_api/deprecation.py:117: LangChainDeprecationWarning: The function `run` was deprecated in LangChain 0.1.0 and will be removed in 0.2.0. Use invoke instead.\n",
      "  warn_deprecated(\n"
     ]
    },
    {
     "name": "stdout",
     "output_type": "stream",
     "text": [
      "Result:\n",
      "\n",
      " The Texas Rangers won the 2023 World Series of baseball.  This was the first time the Rangers had ever won a World Series in the franchise's history.  They won against the Arizona Diamondbacks with a 4-1 record.   I hope this answers your question!  Please let me know if you would like to know more about baseball. \n"
     ]
    }
   ],
   "source": [
    "print(f\"Sending the RAG generation with query: {query}\")\n",
    "qa = RetrievalQA.from_chain_type(llm=llm,\n",
    "        chain_type=\"stuff\",\n",
    "        retriever=retriever)\n",
    "print(f\"Result:\\n\\n{qa.run(query=query)}\") "
   ]
  },
  {
   "cell_type": "markdown",
   "id": "6ea847fe",
   "metadata": {},
   "source": [
    "# Reranking: Improve the ordering of the document chunks"
   ]
  },
  {
   "cell_type": "markdown",
   "id": "0bb304d7",
   "metadata": {},
   "source": [
    "I guess this part isn't necessary because we already got the correct answer in the previous query. But let's step through it anyway."
   ]
  },
  {
   "cell_type": "code",
   "execution_count": null,
   "id": "24dd59e8",
   "metadata": {},
   "outputs": [],
   "source": [
    "compressor = CohereRerank()\n",
    "compression_retriever = ContextualCompressionRetriever(\n",
    "    base_compressor=compressor, base_retriever=retriever\n",
    ")\n",
    "compressed_docs = compression_retriever.get_relevant_documents(query)"
   ]
  },
  {
   "cell_type": "markdown",
   "id": "dc20a66b",
   "metadata": {},
   "source": [
    "Now let's see what the reranked results look like:"
   ]
  },
  {
   "cell_type": "code",
   "execution_count": null,
   "id": "961dda63",
   "metadata": {},
   "outputs": [],
   "source": [
    "pretty_print_docs(compressed_docs)"
   ]
  },
  {
   "cell_type": "markdown",
   "id": "fef217bc",
   "metadata": {},
   "source": [
    "Lastly, let's run our LLM query a final time with the reranked results:"
   ]
  },
  {
   "cell_type": "code",
   "execution_count": null,
   "id": "63696ef9",
   "metadata": {},
   "outputs": [],
   "source": [
    "qa = RetrievalQA.from_chain_type(llm=llm,\n",
    "        chain_type=\"stuff\",\n",
    "        retriever=compression_retriever)\n",
    "\n",
    "print(f\"Result:\\n\\n {qa.run(query=query)}\")"
   ]
  }
 ],
 "metadata": {
  "kernelspec": {
   "display_name": "rag_dataloaders",
   "language": "python",
   "name": "rag_dataloaders"
  },
  "language_info": {
   "codemirror_mode": {
    "name": "ipython",
    "version": 3
   },
   "file_extension": ".py",
   "mimetype": "text/x-python",
   "name": "python",
   "nbconvert_exporter": "python",
   "pygments_lexer": "ipython3",
   "version": "3.10.12"
  }
 },
 "nbformat": 4,
 "nbformat_minor": 5
}
